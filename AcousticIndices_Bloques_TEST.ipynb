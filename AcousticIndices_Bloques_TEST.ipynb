{
 "cells": [
  {
   "cell_type": "code",
   "execution_count": 1,
   "metadata": {
    "id": "j2LttjwU5Vqb"
   },
   "outputs": [],
   "source": [
    "import pandas as pd\n",
    "import numpy as np\n",
    "import matplotlib.pyplot as plt\n",
    "import os\n",
    "import math\n",
    "import pickle\n",
    "from datetime import datetime\n",
    "from pathlib import Path\n",
    "\n",
    "from tqdm import tqdm\n",
    "\n",
    "from dateutil import parser\n",
    "\n",
    "import torch\n",
    "import torch.nn.functional as F\n",
    "from torch.utils.data import Dataset, DataLoader\n",
    "\n",
    "plt.rcParams.update({'font.size': 16})\n",
    "plt.rc('font', family='serif',size=16)"
   ]
  },
  {
   "cell_type": "code",
   "execution_count": 2,
   "metadata": {},
   "outputs": [],
   "source": [
    "if not os.path.exists('./Results/'):\n",
    "    os.makedirs('./Results/')"
   ]
  },
  {
   "cell_type": "code",
   "execution_count": 3,
   "metadata": {
    "id": "rjrBB9BayOrn"
   },
   "outputs": [],
   "source": [
    "PATH_FILES = 'data/AcousticIndices/'\n",
    "\n",
    "Datos = ['2017/3785/20170510',\n",
    "         '2017/3785/20170123',\n",
    "         '2016/3786/20161221',\n",
    "         '2016/3786/20160214',\n",
    "         '2017/3786/20170123',\n",
    "         '2016/3787/20161221',\n",
    "         '2016/3787/20160407',\n",
    "         '2015/3788/20151212',\n",
    "         '2015/5067/20151212',\n",
    "         '2016/5067/20160214',\n",
    "         '2016/5069/20160224',\n",
    "         '2016/5069/20160407',\n",
    "         '2015/5070/20151212',\n",
    "         '2016/5070/20160214',\n",
    "         '2016/5071/20160305',\n",
    "         '2017/5071/20170123',\n",
    "         '2017/5071/20170213',\n",
    "         '2016/5071/20161221',\n",
    "         '2016/5071/20160224',\n",
    "         '2016/5071/20160214',\n",
    "         '2017/5071/20170510',\n",
    "         '2016/5071/20160407',\n",
    "         '2015/5072/20151212',\n",
    "         '2016/5072/20160214',\n",
    "         '2017/302143/20170123',\n",
    "         '2016/302143/20161221',\n",
    "         '2017/302143/20170510',\n",
    "         '2017/302151/20170202',\n",
    "         '2016/302151/20161221',\n",
    "         '2017/302151/20170510',\n",
    "         '2017/302298/20170123',\n",
    "         '2017/302298/20170212',\n",
    "         '2015/JSC5069/20151212',\n",
    "         '2015/LAS40-5069/20151212',\n",
    "         ]\n",
    "\n",
    "Clases = ['Media',\n",
    "          'Media',\n",
    "          'Baja',\n",
    "          'Baja',\n",
    "          'Media',\n",
    "          'Baja',\n",
    "          'Media',\n",
    "          'Baja',\n",
    "          'Alta',\n",
    "          'Media',\n",
    "          'Alta',\n",
    "          'Media',\n",
    "          'Baja',\n",
    "          'Media',\n",
    "          'Alta',\n",
    "          'Alta',\n",
    "          'Alta',\n",
    "          'Alta',\n",
    "          'Baja',\n",
    "          'Baja',\n",
    "          'Media',\n",
    "          'Media',\n",
    "          'Media',\n",
    "          'Media',\n",
    "          'Alta',\n",
    "          'Baja',\n",
    "          'Media',\n",
    "          'Baja',\n",
    "          'Media',\n",
    "          'Media',\n",
    "          'Baja',\n",
    "          'Baja',\n",
    "          'Baja',\n",
    "          'Media',\n",
    "          ]\n",
    "\n",
    "transANumero = {'Baja': 0, 'Media': 1, 'Alta': 2}\n",
    "etiquetas = [transANumero[i] for i in Clases]"
   ]
  },
  {
   "cell_type": "code",
   "execution_count": 4,
   "metadata": {
    "id": "W5R-LLhZ14ck"
   },
   "outputs": [],
   "source": [
    "UsadNestor = [1,2,4,5,7,8,9,10,12,13,14,15,17,18,19,22,23,24,25,27,28,30,32,33]\n",
    "DatosN = [Datos[i] for i in UsadNestor]\n",
    "etiquetasN = [etiquetas[i] for i in UsadNestor]"
   ]
  },
  {
   "cell_type": "code",
   "execution_count": 5,
   "metadata": {
    "colab": {
     "base_uri": "https://localhost:8080/"
    },
    "id": "_LulTM_Vtx6w",
    "outputId": "d115000e-7689-4bd1-ee64-364bdcb612d3"
   },
   "outputs": [
    {
     "data": {
      "text/plain": [
       "device(type='cuda', index=0)"
      ]
     },
     "execution_count": 5,
     "metadata": {},
     "output_type": "execute_result"
    }
   ],
   "source": [
    "DEVICE = torch.device('cuda:0' if torch.cuda.is_available() else 'cpu')\n",
    "DEVICE"
   ]
  },
  {
   "cell_type": "code",
   "execution_count": 6,
   "metadata": {
    "id": "L1CuKImj8bRK"
   },
   "outputs": [],
   "source": [
    "class MyDatasetTRAIN(Dataset):\n",
    "\n",
    "    def __init__(self, ListaArchivos, etiquetas, numbloq = 24):\n",
    "        self.numbloq = numbloq\n",
    "        self.lista = ListaArchivos\n",
    "        self.n = len(ListaArchivos)*self.numbloq #ya no es necesario el 24, ya no es bloque por hora fija sino muchos bloques que incluyen todas las horas\n",
    "        self.y = etiquetas\n",
    "    \n",
    "    def __getitem__(self, index):\n",
    "        archivo = index//self.numbloq #qué archivo usar\n",
    "        \n",
    "        ruta = self.lista[archivo]\n",
    "        name = '_'.join(ruta.split('/'))\n",
    "        \n",
    "        df = pd.read_csv(f\"{PATH_FILES}indices_{name}.csv\", index_col='Date')\n",
    "        df.index = pd.Series(df.index.map(parser.parse))\n",
    "        df.replace([np.inf, -np.inf], np.nan, inplace=True)\n",
    "        df = df.fillna(df.mean())\n",
    "\n",
    "        L = np.arange(df.shape[0])\n",
    "\n",
    "        HM = df.index.strftime('%H:%M')\n",
    "        \n",
    "        Data1 = torch.empty((0,60)) \n",
    "        for bloque in range(24):\n",
    "            ini = f\"{bloque:02}:00\"\n",
    "            final = f\"{bloque+1:02}:00\"\n",
    "            Sel = np.logical_and(HM >= ini, HM < final)\n",
    "            \n",
    "            nd = sum(Sel)\n",
    "            ndata = int(0.8*nd)\n",
    "            row = np.random.permutation(ndata)[0]\n",
    "            \n",
    "            indices_datos = L[Sel]\n",
    "            fila1 = torch.tensor(df.iloc[indices_datos[row],1:].values.astype('float'))\n",
    "            Data1 = torch.cat((Data1,fila1.view(1,-1)), axis=0)\n",
    "\n",
    "        \n",
    "        label = self.y[archivo]\n",
    "        return Data1, label, bloque\n",
    "\n",
    "    def __len__(self):\n",
    "        return self.n"
   ]
  },
  {
   "cell_type": "code",
   "execution_count": 7,
   "metadata": {
    "id": "hCjrrDfEJGNg"
   },
   "outputs": [],
   "source": [
    "class MyDatasetTEST(Dataset):\n",
    "\n",
    "    def __init__(self, ListaArchivos, etiquetas, numbloq = 24):\n",
    "        self.numbloq = numbloq\n",
    "        self.lista = ListaArchivos\n",
    "        self.n = len(ListaArchivos)*self.numbloq #ya no es necesario el 24, ya no es bloque por hora fija sino muchos bloques que incluyen todas las horas\n",
    "        self.y = etiquetas\n",
    "    \n",
    "    def __getitem__(self, index):\n",
    "        archivo = index//self.numbloq #qué archivo usar\n",
    "        \n",
    "        ruta = self.lista[archivo]\n",
    "        name = '_'.join(ruta.split('/'))\n",
    "        \n",
    "        df = pd.read_csv(f\"{PATH_FILES}indices_{name}.csv\", index_col='Date')\n",
    "        df.index = pd.Series(df.index.map(parser.parse))\n",
    "        df.replace([np.inf, -np.inf], np.nan, inplace=True)\n",
    "        df = df.fillna(df.mean())\n",
    "\n",
    "        L = np.arange(df.shape[0])\n",
    "\n",
    "        HM = df.index.strftime('%H:%M')\n",
    "        \n",
    "        Data1 = torch.empty((0,60)) \n",
    "        for bloque in range(24):\n",
    "            ini = f\"{bloque:02}:00\"\n",
    "            final = f\"{bloque+1:02}:00\"\n",
    "            Sel = np.logical_and(HM >= ini, HM < final)\n",
    "            nd = sum(Sel)\n",
    "            ndata = int(0.8*nd)\n",
    "            row = np.random.randint(ndata,nd)\n",
    "            \n",
    "            indices_datos = L[Sel]\n",
    "            nvalid = df.iloc[row,1]\n",
    "            fila1 = torch.tensor(df.iloc[indices_datos[row],1:].values.astype('float'))\n",
    "            Data1 = torch.cat((Data1,fila1.view(1,-1)), axis=0)\n",
    "\n",
    "        \n",
    "        label = self.y[archivo]\n",
    "        return Data1, label, bloque\n",
    "\n",
    "    def __len__(self):\n",
    "        return self.n"
   ]
  },
  {
   "cell_type": "code",
   "execution_count": 8,
   "metadata": {
    "colab": {
     "base_uri": "https://localhost:8080/"
    },
    "id": "CZNN1-rLx-Ro",
    "outputId": "98bef31d-8ab8-4f30-b120-c26b195e5531"
   },
   "outputs": [
    {
     "name": "stdout",
     "output_type": "stream",
     "text": [
      "1920 480 720 2400\n"
     ]
    }
   ],
   "source": [
    "BATCH_SIZE = 16#16\n",
    "NUM_TENSORES_TR = 100#200\n",
    "NUM_TENSORES_TE = 30#20\n",
    "\n",
    "train_dataset = MyDatasetTRAIN(ListaArchivos=DatosN,\n",
    "                          etiquetas=etiquetasN, numbloq=NUM_TENSORES_TR)\n",
    "\n",
    "trainsize = int(0.8*len(train_dataset))\n",
    "testsize = len(train_dataset) - trainsize\n",
    "\n",
    "tr_set, val_set = torch.utils.data.random_split(train_dataset, [trainsize, testsize])\n",
    "\n",
    "test_set = MyDatasetTEST(ListaArchivos=DatosN,\n",
    "                          etiquetas=etiquetasN, numbloq=NUM_TENSORES_TE)\n",
    "\n",
    "print(len(tr_set), len(val_set), len(test_set), len(train_dataset))\n",
    "\n",
    "tr_loader = DataLoader(dataset=tr_set,\n",
    "                          batch_size=BATCH_SIZE,\n",
    "                          drop_last=True,\n",
    "                          shuffle=True, # want to shuffle the dataset\n",
    "                          num_workers=0)\n",
    "\n",
    "val_loader = DataLoader(dataset=val_set,\n",
    "                          batch_size=BATCH_SIZE,\n",
    "                          drop_last=True,\n",
    "                          shuffle=True, # want to shuffle the dataset\n",
    "                          num_workers=0)\n",
    "\n",
    "test_loader = DataLoader(dataset=test_set,\n",
    "                          batch_size=BATCH_SIZE,\n",
    "                          drop_last=True,\n",
    "                          shuffle=True, # want to shuffle the dataset\n",
    "                          num_workers=0)"
   ]
  },
  {
   "cell_type": "code",
   "execution_count": 9,
   "metadata": {
    "id": "yEz28Za4JGNm"
   },
   "outputs": [],
   "source": [
    "def AE_MaxMin(A, maxi, mini):\n",
    "    return (A-mini)/(maxi-mini+1e-6)"
   ]
  },
  {
   "cell_type": "code",
   "execution_count": 10,
   "metadata": {},
   "outputs": [],
   "source": [
    "def AE_loader2flatten(loader, ndim = 60):\n",
    "    X = torch.empty(0,ndim*24)\n",
    "    y = torch.empty(0)\n",
    "    for A, et, _ in loader:\n",
    "        AA = A.transpose(1, 2).flatten().view(A.shape[0],-1)\n",
    "        X = torch.concat((X,AA))\n",
    "\n",
    "        y = torch.concat((y,et), dim=0)\n",
    "    return X.numpy(), y.numpy()"
   ]
  },
  {
   "cell_type": "markdown",
   "metadata": {
    "id": "SbKWvG3lJGNn"
   },
   "source": [
    " ## RF"
   ]
  },
  {
   "cell_type": "code",
   "execution_count": 11,
   "metadata": {
    "id": "52VRbvZ9JGNp"
   },
   "outputs": [],
   "source": [
    "from sklearn.ensemble import RandomForestClassifier\n",
    "from sklearn.model_selection import train_test_split\n",
    "from sklearn.metrics import accuracy_score\n",
    "from sklearn.metrics import confusion_matrix\n",
    "from sklearn.preprocessing import StandardScaler"
   ]
  },
  {
   "cell_type": "code",
   "execution_count": 12,
   "metadata": {
    "colab": {
     "base_uri": "https://localhost:8080/"
    },
    "id": "6YSsCYDsJGNp",
    "outputId": "3697e992-6088-4734-fc5a-df1b8962feda"
   },
   "outputs": [
    {
     "name": "stdout",
     "output_type": "stream",
     "text": [
      "Data loaded!\n"
     ]
    }
   ],
   "source": [
    "try:\n",
    "    with open('AcousticIndpickles/normDataMaxMin.pickle', 'rb') as handle:\n",
    "        unserialized_data = pickle.load(handle)\n",
    "        Tmax = unserialized_data['max']\n",
    "        Tmin = unserialized_data['mini']\n",
    "        \n",
    "    with open('AcousticIndpickles/AcousticDataFlatten.pickle', 'rb') as handle:\n",
    "        unserialized_data = pickle.load(handle)\n",
    "        X_train = unserialized_data['X_train']\n",
    "        X_val = unserialized_data['X_val']\n",
    "        X_test = unserialized_data['X_test']\n",
    "        y_train = unserialized_data['y_train']\n",
    "        y_val = unserialized_data['y_val']\n",
    "        y_test = unserialized_data['y_test']\n",
    "        print('Data loaded!')\n",
    "except:\n",
    "    print('Normalizing data')\n",
    "    X_train_, y_train = AE_loader2flatten(tr_loader)\n",
    "    X_val_, y_val = AE_loader2flatten(val_loader)\n",
    "    X_test_, y_test = AE_loader2flatten(test_loader)\n",
    "\n",
    "    \n",
    "    X_train_[np.isnan(X_train_)] = 0 #Los valores de nan en X hacerlos 0, imputar desde pandas?\n",
    "    X_test_[np.isnan(X_test_)] = 0\n",
    "    X_val_[np.isnan(X_val_)] = 0\n",
    "    \n",
    "    Tmax = np.max(X_train_,0)\n",
    "    Tmin = np.min(X_train_,0)\n",
    "    X_train = AE_MaxMin(X_train_,Tmax, Tmin)\n",
    "    X_val = AE_MaxMin(X_val_,Tmax, Tmin)\n",
    "    X_test = AE_MaxMin(X_test_,Tmax, Tmin)\n",
    "    \n",
    "    normData = {'max': Tmax, 'mini':Tmin}\n",
    "    Data = {'X_train': X_train, 'y_train':y_train, 'X_val': X_val, 'y_val':y_val, 'X_test': X_test, 'y_test':y_test}\n",
    "    # Store data (serialize)\n",
    "    with open('AcousticIndpickles/normDataMaxMin.pickle', 'wb') as handle:\n",
    "        pickle.dump(normData, handle, protocol=pickle.HIGHEST_PROTOCOL)\n",
    "    with open('AcousticIndpickles/AcousticDataFlatten.pickle', 'wb') as handle:\n",
    "        pickle.dump(Data, handle, protocol=pickle.HIGHEST_PROTOCOL)"
   ]
  },
  {
   "cell_type": "code",
   "execution_count": 13,
   "metadata": {
    "id": "ZHK4WmtwJGNq"
   },
   "outputs": [],
   "source": [
    "clf = RandomForestClassifier(max_depth=20, random_state=42)\n",
    "clf.fit(X_train.astype(np.float32), y_train.astype(np.float32))\n",
    "predictions = clf.predict(X_val)"
   ]
  },
  {
   "cell_type": "code",
   "execution_count": 14,
   "metadata": {
    "colab": {
     "base_uri": "https://localhost:8080/"
    },
    "id": "WGOax5MvJGNq",
    "outputId": "fd88b2f7-bfff-4d43-d0bd-290ff2fa2919"
   },
   "outputs": [
    {
     "name": "stdout",
     "output_type": "stream",
     "text": [
      "Confusion Matrix\n",
      "-------------------\n",
      "[[190   0   0]\n",
      " [  0 161   0]\n",
      " [  0   1 128]]\n",
      "\n",
      "Validation accuracy is: 99.79166666666667 %\n"
     ]
    }
   ],
   "source": [
    "mat_confusion = confusion_matrix(\n",
    "                    y_true    = y_val,\n",
    "                    y_pred    = predictions\n",
    "                )\n",
    "\n",
    "accuracy = accuracy_score(\n",
    "            y_true    = y_val,\n",
    "            y_pred    = predictions,\n",
    "            normalize = True\n",
    "           )\n",
    "\n",
    "print(\"Confusion Matrix\")\n",
    "print(\"-------------------\")\n",
    "print(mat_confusion)\n",
    "print(\"\")\n",
    "print(f\"Validation accuracy is: {100 * accuracy} %\")"
   ]
  },
  {
   "cell_type": "code",
   "execution_count": 15,
   "metadata": {
    "id": "csjyEyrjJGNs"
   },
   "outputs": [],
   "source": [
    "from scipy import stats\n",
    "from sklearn.metrics import ConfusionMatrixDisplay, classification_report"
   ]
  },
  {
   "cell_type": "code",
   "execution_count": 16,
   "metadata": {
    "id": "HTOYI5O8JGNs"
   },
   "outputs": [],
   "source": [
    "def AE_testClass(model, x_test, y_test):\n",
    "    predictions = model.predict(x_test)\n",
    "    pred_per_block = stats.mode(predictions.T.reshape(-1,24), axis=1)[0]\n",
    "    y_test = y_test[::24]\n",
    "    \n",
    "    return y_test, pred_per_block"
   ]
  },
  {
   "cell_type": "code",
   "execution_count": 17,
   "metadata": {
    "colab": {
     "base_uri": "https://localhost:8080/"
    },
    "id": "LVpc8e7WJGNs",
    "outputId": "ea789fc1-cabd-4d59-9532-c116c909f30d"
   },
   "outputs": [
    {
     "name": "stdout",
     "output_type": "stream",
     "text": [
      "Confusion Matrix\n",
      "-------------------\n",
      "[[277  22   1]\n",
      " [ 31 207   2]\n",
      " [  0  17 163]]\n",
      "\n",
      "Test accuracy is: 89.86111111111111 %\n"
     ]
    }
   ],
   "source": [
    "# y_testBlock, predictions = AE_testClass(clf,X_test, y_test)\n",
    "predictions = clf.predict(X_test)\n",
    "\n",
    "mat_confusion = confusion_matrix(\n",
    "                    y_true    = y_test,\n",
    "                    y_pred    = predictions\n",
    "                )\n",
    "\n",
    "accuracy = accuracy_score(\n",
    "            y_true    = y_test,\n",
    "            y_pred    = predictions,\n",
    "            normalize = True\n",
    "           )\n",
    "\n",
    "print(\"Confusion Matrix\")\n",
    "print(\"-------------------\")\n",
    "print(mat_confusion)\n",
    "print(\"\")\n",
    "print(f\"Test accuracy is: {100 * accuracy} %\")"
   ]
  },
  {
   "cell_type": "code",
   "execution_count": 18,
   "metadata": {
    "colab": {
     "base_uri": "https://localhost:8080/",
     "height": 296
    },
    "id": "CnxWjyffJGNt",
    "outputId": "2e4cb1bb-f6a9-49ce-ebbc-b9bb209e7e15"
   },
   "outputs": [
    {
     "name": "stdout",
     "output_type": "stream",
     "text": [
      "0.8986111111111111\n"
     ]
    },
    {
     "data": {
      "image/png": "[encoded data removed]",
      "text/plain": [
       "<Figure size 432x288 with 2 Axes>"
      ]
     },
     "metadata": {
      "needs_background": "light"
     },
     "output_type": "display_data"
    }
   ],
   "source": [
    "ConfusionMatrixDisplay.from_predictions(y_test, predictions, cmap='Greens', display_labels=['Low', 'Medium','High'])\n",
    "plt.tight_layout()\n",
    "plt.savefig('./Results/AI_RF_CF.pdf', transparent=True, dpi=300)\n",
    "\n",
    "accuracy = accuracy_score(\n",
    "            y_true    = y_test,\n",
    "            y_pred    = predictions,\n",
    "            normalize = True\n",
    "           )\n",
    "\n",
    "print(accuracy)"
   ]
  },
  {
   "cell_type": "code",
   "execution_count": 19,
   "metadata": {
    "colab": {
     "base_uri": "https://localhost:8080/"
    },
    "id": "5b8Tj5N5JGNt",
    "outputId": "58d49939-b56b-4e4b-d89c-917b8acbc021"
   },
   "outputs": [
    {
     "name": "stdout",
     "output_type": "stream",
     "text": [
      "              precision    recall  f1-score   support\n",
      "\n",
      "         0.0       0.90      0.92      0.91       300\n",
      "         1.0       0.84      0.86      0.85       240\n",
      "         2.0       0.98      0.91      0.94       180\n",
      "\n",
      "    accuracy                           0.90       720\n",
      "   macro avg       0.91      0.90      0.90       720\n",
      "weighted avg       0.90      0.90      0.90       720\n",
      "\n"
     ]
    }
   ],
   "source": [
    "print(classification_report(y_test, predictions))"
   ]
  },
  {
   "cell_type": "markdown",
   "metadata": {
    "id": "wvLLnrajJGNt"
   },
   "source": [
    "## MLP"
   ]
  },
  {
   "cell_type": "code",
   "execution_count": 20,
   "metadata": {
    "colab": {
     "base_uri": "https://localhost:8080/"
    },
    "id": "hQNTU5COJGNt",
    "outputId": "6d071f83-aa16-444f-ec1b-8a0fd22a7eb9"
   },
   "outputs": [
    {
     "name": "stdout",
     "output_type": "stream",
     "text": [
      "cuda:0\n",
      "Image batch dimensions: torch.Size([64, 1440])\n",
      "Image label dimensions: torch.Size([64])\n"
     ]
    }
   ],
   "source": [
    "from torch.utils.data import DataLoader, TensorDataset\n",
    "\n",
    "#######################\n",
    "### SETTINGS        ###\n",
    "#######################\n",
    "X_train\n",
    "RANDOM_SEED = 42\n",
    "BATCH_SIZE_MLP = 64\n",
    "NUM_EPOCHS = 50\n",
    "DEVICE = torch.device('cuda:0' if torch.cuda.is_available() else 'cpu')\n",
    "print(DEVICE)\n",
    "\n",
    "##################################\n",
    "### FROM DATASET TO DATALOADER ###\n",
    "##################################\n",
    "\n",
    "X_train = torch.FloatTensor(X_train)\n",
    "y_train = torch.FloatTensor(y_train)\n",
    "\n",
    "X_val = torch.FloatTensor(X_val)\n",
    "y_val = torch.FloatTensor(y_val)\n",
    "\n",
    "X_test = torch.FloatTensor(X_test)\n",
    "y_test = torch.FloatTensor(y_test)\n",
    "\n",
    "Traindataset = TensorDataset(X_train, y_train)\n",
    "Testdataset = TensorDataset(X_test, y_test)\n",
    "Valdataset = TensorDataset(X_val, y_val)\n",
    "\n",
    "train_loader = DataLoader(dataset=Traindataset, \n",
    "                          batch_size=BATCH_SIZE_MLP, \n",
    "                          shuffle=True)\n",
    "\n",
    "val_loader2 = DataLoader(dataset=Valdataset, \n",
    "                         batch_size=BATCH_SIZE_MLP, \n",
    "                         shuffle=False)\n",
    "\n",
    "test_loader2 = DataLoader(dataset=Testdataset, \n",
    "                         batch_size=BATCH_SIZE_MLP, \n",
    "                         shuffle=False)\n",
    "\n",
    "# Checking the dataset\n",
    "for batch, etiquetas  in test_loader2:  \n",
    "    print('Image batch dimensions:', batch.shape)\n",
    "    print('Image label dimensions:', etiquetas.shape)\n",
    "    break"
   ]
  },
  {
   "cell_type": "code",
   "execution_count": 21,
   "metadata": {
    "colab": {
     "base_uri": "https://localhost:8080/"
    },
    "id": "gLgJI_zZJGNu",
    "outputId": "8c5b4516-ebc5-4220-e86b-4c789629faac"
   },
   "outputs": [
    {
     "name": "stdout",
     "output_type": "stream",
     "text": [
      "Epoch: 001/050 | Batch 000/030 | Cost: 1.1217\n",
      "Epoch: 001/050 Train Cost: 0.5843\n",
      "Time elapsed: 0.01 min\n",
      "Epoch: 002/050 | Batch 000/030 | Cost: 0.6022\n",
      "Epoch: 002/050 Train Cost: 0.3163\n",
      "Time elapsed: 0.01 min\n",
      "Epoch: 003/050 | Batch 000/030 | Cost: 0.3336\n",
      "Epoch: 003/050 Train Cost: 0.1497\n",
      "Time elapsed: 0.01 min\n",
      "Epoch: 004/050 | Batch 000/030 | Cost: 0.1371\n",
      "Epoch: 004/050 Train Cost: 0.0724\n",
      "Time elapsed: 0.01 min\n",
      "Epoch: 005/050 | Batch 000/030 | Cost: 0.0541\n",
      "Epoch: 005/050 Train Cost: 0.0529\n",
      "Time elapsed: 0.02 min\n",
      "Epoch: 006/050 | Batch 000/030 | Cost: 0.0343\n",
      "Epoch: 006/050 Train Cost: 0.0338\n",
      "Time elapsed: 0.02 min\n",
      "Epoch: 007/050 | Batch 000/030 | Cost: 0.0329\n",
      "Epoch: 007/050 Train Cost: 0.0413\n",
      "Time elapsed: 0.02 min\n",
      "Epoch: 008/050 | Batch 000/030 | Cost: 0.0250\n",
      "Epoch: 008/050 Train Cost: 0.0778\n",
      "Time elapsed: 0.02 min\n",
      "Epoch: 009/050 | Batch 000/030 | Cost: 0.0877\n",
      "Epoch: 009/050 Train Cost: 0.0367\n",
      "Time elapsed: 0.02 min\n",
      "Epoch: 010/050 | Batch 000/030 | Cost: 0.0247\n",
      "Epoch: 010/050 Train Cost: 0.0175\n",
      "Time elapsed: 0.02 min\n",
      "Epoch: 011/050 | Batch 000/030 | Cost: 0.0255\n",
      "Epoch: 011/050 Train Cost: 0.0127\n",
      "Time elapsed: 0.03 min\n",
      "Epoch: 012/050 | Batch 000/030 | Cost: 0.0296\n",
      "Epoch: 012/050 Train Cost: 0.0067\n",
      "Time elapsed: 0.03 min\n",
      "Epoch: 013/050 | Batch 000/030 | Cost: 0.0077\n",
      "Epoch: 013/050 Train Cost: 0.0107\n",
      "Time elapsed: 0.03 min\n",
      "Epoch: 014/050 | Batch 000/030 | Cost: 0.0181\n",
      "Epoch: 014/050 Train Cost: 0.0050\n",
      "Time elapsed: 0.03 min\n",
      "Epoch: 015/050 | Batch 000/030 | Cost: 0.0025\n",
      "Epoch: 015/050 Train Cost: 0.0049\n",
      "Time elapsed: 0.03 min\n",
      "Epoch: 016/050 | Batch 000/030 | Cost: 0.0076\n",
      "Epoch: 016/050 Train Cost: 0.0039\n",
      "Time elapsed: 0.03 min\n",
      "Epoch: 017/050 | Batch 000/030 | Cost: 0.0061\n",
      "Epoch: 017/050 Train Cost: 0.0040\n",
      "Time elapsed: 0.03 min\n",
      "Epoch: 018/050 | Batch 000/030 | Cost: 0.0058\n",
      "Epoch: 018/050 Train Cost: 0.0041\n",
      "Time elapsed: 0.04 min\n",
      "Epoch: 019/050 | Batch 000/030 | Cost: 0.0029\n",
      "Epoch: 019/050 Train Cost: 0.0029\n",
      "Time elapsed: 0.04 min\n",
      "Epoch: 020/050 | Batch 000/030 | Cost: 0.0020\n",
      "Epoch: 020/050 Train Cost: 0.0027\n",
      "Time elapsed: 0.04 min\n",
      "Epoch: 021/050 | Batch 000/030 | Cost: 0.0019\n",
      "Epoch: 021/050 Train Cost: 0.0024\n",
      "Time elapsed: 0.04 min\n",
      "Epoch: 022/050 | Batch 000/030 | Cost: 0.0020\n",
      "Epoch: 022/050 Train Cost: 0.0026\n",
      "Time elapsed: 0.04 min\n",
      "Epoch: 023/050 | Batch 000/030 | Cost: 0.0017\n",
      "Epoch: 023/050 Train Cost: 0.0020\n",
      "Time elapsed: 0.04 min\n",
      "Epoch: 024/050 | Batch 000/030 | Cost: 0.0024\n",
      "Epoch: 024/050 Train Cost: 0.0024\n",
      "Time elapsed: 0.05 min\n",
      "Epoch: 025/050 | Batch 000/030 | Cost: 0.0029\n",
      "Epoch: 025/050 Train Cost: 0.0018\n",
      "Time elapsed: 0.05 min\n",
      "Epoch: 026/050 | Batch 000/030 | Cost: 0.0023\n",
      "Epoch: 026/050 Train Cost: 0.0017\n",
      "Time elapsed: 0.05 min\n",
      "Epoch: 027/050 | Batch 000/030 | Cost: 0.0015\n",
      "Epoch: 027/050 Train Cost: 0.0016\n",
      "Time elapsed: 0.05 min\n",
      "Epoch: 028/050 | Batch 000/030 | Cost: 0.0012\n",
      "Epoch: 028/050 Train Cost: 0.0015\n",
      "Time elapsed: 0.05 min\n",
      "Epoch: 029/050 | Batch 000/030 | Cost: 0.0031\n",
      "Epoch: 029/050 Train Cost: 0.0013\n",
      "Time elapsed: 0.05 min\n",
      "Epoch: 030/050 | Batch 000/030 | Cost: 0.0010\n",
      "Epoch: 030/050 Train Cost: 0.0012\n",
      "Time elapsed: 0.05 min\n",
      "Epoch: 031/050 | Batch 000/030 | Cost: 0.0008\n",
      "Epoch: 031/050 Train Cost: 0.0013\n",
      "Time elapsed: 0.06 min\n",
      "Epoch: 032/050 | Batch 000/030 | Cost: 0.0012\n",
      "Epoch: 032/050 Train Cost: 0.0011\n",
      "Time elapsed: 0.06 min\n",
      "Epoch: 033/050 | Batch 000/030 | Cost: 0.0009\n",
      "Epoch: 033/050 Train Cost: 0.0010\n",
      "Time elapsed: 0.06 min\n",
      "Epoch: 034/050 | Batch 000/030 | Cost: 0.0007\n",
      "Epoch: 034/050 Train Cost: 0.0009\n",
      "Time elapsed: 0.06 min\n",
      "Epoch: 035/050 | Batch 000/030 | Cost: 0.0009\n",
      "Epoch: 035/050 Train Cost: 0.0010\n",
      "Time elapsed: 0.06 min\n",
      "Epoch: 036/050 | Batch 000/030 | Cost: 0.0002\n",
      "Epoch: 036/050 Train Cost: 0.0009\n",
      "Time elapsed: 0.06 min\n",
      "Epoch: 037/050 | Batch 000/030 | Cost: 0.0006\n",
      "Epoch: 037/050 Train Cost: 0.0008\n",
      "Time elapsed: 0.07 min\n",
      "Epoch: 038/050 | Batch 000/030 | Cost: 0.0012\n",
      "Epoch: 038/050 Train Cost: 0.0009\n",
      "Time elapsed: 0.07 min\n",
      "Epoch: 039/050 | Batch 000/030 | Cost: 0.0007\n",
      "Epoch: 039/050 Train Cost: 0.0008\n",
      "Time elapsed: 0.07 min\n",
      "Epoch: 040/050 | Batch 000/030 | Cost: 0.0010\n",
      "Epoch: 040/050 Train Cost: 0.0007\n",
      "Time elapsed: 0.07 min\n",
      "Epoch: 041/050 | Batch 000/030 | Cost: 0.0012\n",
      "Epoch: 041/050 Train Cost: 0.0007\n",
      "Time elapsed: 0.07 min\n",
      "Epoch: 042/050 | Batch 000/030 | Cost: 0.0004\n",
      "Epoch: 042/050 Train Cost: 0.0006\n",
      "Time elapsed: 0.07 min\n",
      "Epoch: 043/050 | Batch 000/030 | Cost: 0.0003\n",
      "Epoch: 043/050 Train Cost: 0.0006\n",
      "Time elapsed: 0.07 min\n",
      "Epoch: 044/050 | Batch 000/030 | Cost: 0.0003\n",
      "Epoch: 044/050 Train Cost: 0.0006\n",
      "Time elapsed: 0.08 min\n",
      "Epoch: 045/050 | Batch 000/030 | Cost: 0.0006\n",
      "Epoch: 045/050 Train Cost: 0.0006\n",
      "Time elapsed: 0.08 min\n",
      "Epoch: 046/050 | Batch 000/030 | Cost: 0.0005\n",
      "Epoch: 046/050 Train Cost: 0.0006\n",
      "Time elapsed: 0.08 min\n",
      "Epoch: 047/050 | Batch 000/030 | Cost: 0.0004\n",
      "Epoch: 047/050 Train Cost: 0.0005\n",
      "Time elapsed: 0.08 min\n",
      "Epoch: 048/050 | Batch 000/030 | Cost: 0.0004\n",
      "Epoch: 048/050 Train Cost: 0.0005\n",
      "Time elapsed: 0.08 min\n",
      "Epoch: 049/050 | Batch 000/030 | Cost: 0.0003\n",
      "Epoch: 049/050 Train Cost: 0.0005\n",
      "Time elapsed: 0.08 min\n",
      "Epoch: 050/050 | Batch 000/030 | Cost: 0.0007\n",
      "Epoch: 050/050 Train Cost: 0.0005\n",
      "Time elapsed: 0.08 min\n",
      "Total Training Time: 0.08 min\n"
     ]
    }
   ],
   "source": [
    "import time\n",
    "from torch import nn\n",
    "\n",
    "class MLP(torch.nn.Module):\n",
    "\n",
    "    def __init__(self, num_features, num_hidden, num_classes):\n",
    "        super().__init__()\n",
    "        \n",
    "        self.num_classes = num_classes\n",
    "        \n",
    "        ### 1st hidden layer\n",
    "        self.linear_1 = torch.nn.Linear(num_features, num_hidden)\n",
    "\n",
    "        ### Output layer\n",
    "        self.linear_out = torch.nn.Linear(num_hidden, num_classes)\n",
    "        \n",
    "    def forward(self, x):\n",
    "        out = self.linear_1(x)\n",
    "        out = F.relu(out)\n",
    "        logits = self.linear_out(out)\n",
    "        probas = torch.softmax(logits, dim=1)\n",
    "        return logits\n",
    "\n",
    "    \n",
    "#################################\n",
    "### Model Initialization\n",
    "#################################\n",
    "    \n",
    "torch.manual_seed(RANDOM_SEED)\n",
    "model = MLP(num_features=60*24,\n",
    "            num_hidden=150,\n",
    "            num_classes=3)\n",
    "\n",
    "model = model.to(DEVICE)\n",
    "\n",
    "optimizer = torch.optim.Adam(model.parameters(), lr=0.005)\n",
    "\n",
    "#################################\n",
    "### Training\n",
    "#################################\n",
    "\n",
    "def compute_loss(net, data_loader):\n",
    "    curr_loss = 0.\n",
    "    with torch.no_grad():\n",
    "        for cnt, (features, targets) in enumerate(data_loader):\n",
    "            features = features.view(-1, 1440).to(DEVICE)\n",
    "            targets = targets.to(DEVICE)\n",
    "            logits = net(features).to(DEVICE)\n",
    "            loss = F.cross_entropy(logits.to(DEVICE), targets.squeeze().type(torch.LongTensor).to(DEVICE))\n",
    "            curr_loss += loss\n",
    "        return float(curr_loss)/cnt\n",
    "\n",
    "\n",
    "\n",
    "start_time = time.time()\n",
    "minibatch_cost = []\n",
    "epoch_cost = []\n",
    "loss_function = nn.CrossEntropyLoss()\n",
    "for epoch in range(NUM_EPOCHS):\n",
    "    model.train()\n",
    "    for batch_idx, (features, targets) in enumerate(train_loader):\n",
    "        \n",
    "        features = features.to(DEVICE)\n",
    "        targets = targets.to(DEVICE)\n",
    "            \n",
    "        ### FORWARD AND BACK PROP\n",
    "        logits = model(features.float()).to(DEVICE)\n",
    "        \n",
    "        cost = loss_function(logits.to(DEVICE), targets.squeeze().type(torch.LongTensor).to(DEVICE))\n",
    "        optimizer.zero_grad()\n",
    "        \n",
    "        cost.backward()\n",
    "       \n",
    "        ### UPDATE MODEL PARAMETERS\n",
    "        optimizer.step()\n",
    "        \n",
    "        ### LOGGING\n",
    "        minibatch_cost.append(cost.item())\n",
    "        if not batch_idx % 50:\n",
    "            print ('Epoch: %03d/%03d | Batch %03d/%03d | Cost: %.4f' \n",
    "                   %(epoch+1, NUM_EPOCHS, batch_idx, \n",
    "                     len(train_loader), cost.item()))\n",
    "        \n",
    "    cost = compute_loss(model, train_loader)\n",
    "    epoch_cost.append(cost)\n",
    "    print('Epoch: %03d/%03d Train Cost: %.4f' % (\n",
    "            epoch+1, NUM_EPOCHS, cost))\n",
    "    print('Time elapsed: %.2f min' % ((time.time() - start_time)/60))\n",
    "    \n",
    "print('Total Training Time: %.2f min' % ((time.time() - start_time)/60))"
   ]
  },
  {
   "cell_type": "code",
   "execution_count": 22,
   "metadata": {
    "colab": {
     "base_uri": "https://localhost:8080/",
     "height": 563
    },
    "id": "2kNRadq5JGNu",
    "outputId": "3bf3d3cb-097a-4b3c-df93-48502100d5a4"
   },
   "outputs": [
    {
     "data": {
      "image/png": "[encoded data removed]",
      "text/plain": [
       "<Figure size 432x288 with 1 Axes>"
      ]
     },
     "metadata": {
      "needs_background": "light"
     },
     "output_type": "display_data"
    },
    {
     "data": {
      "image/png": "[encoded data removed]",
      "text/plain": [
       "<Figure size 432x288 with 1 Axes>"
      ]
     },
     "metadata": {
      "needs_background": "light"
     },
     "output_type": "display_data"
    }
   ],
   "source": [
    "plt.plot(range(len(minibatch_cost)), minibatch_cost)\n",
    "plt.ylabel('Cross Entropy')\n",
    "plt.xlabel('Minibatch')\n",
    "plt.show()\n",
    "\n",
    "plt.plot(range(len(epoch_cost)), epoch_cost)\n",
    "plt.ylabel('Cross Entropy')\n",
    "plt.xlabel('Epoch')\n",
    "plt.show()"
   ]
  },
  {
   "cell_type": "code",
   "execution_count": 23,
   "metadata": {
    "colab": {
     "base_uri": "https://localhost:8080/"
    },
    "id": "mDE_EkCNJGNu",
    "outputId": "5ac721f4-6083-447d-90c7-e166092671d5"
   },
   "outputs": [
    {
     "name": "stdout",
     "output_type": "stream",
     "text": [
      "Training Accuracy: 100.00\n",
      "Val Accuracy: 99.38\n"
     ]
    }
   ],
   "source": [
    "def compute_accuracy(net, data_loader):\n",
    "    correct_pred, num_examples = 0, 0\n",
    "    with torch.no_grad():\n",
    "        for features, targets in data_loader:\n",
    "            features = features.to(DEVICE)\n",
    "            targets = targets.to(DEVICE)\n",
    "            logits = net.forward(features)\n",
    "            predicted_labels = torch.argmax(logits, 1)\n",
    "            num_examples += targets.size(0)\n",
    "            correct_pred += (predicted_labels == targets.squeeze()).sum()\n",
    "        return correct_pred.float()/num_examples * 100\n",
    "    \n",
    "print('Training Accuracy: %.2f' % compute_accuracy(model, train_loader))\n",
    "print('Val Accuracy: %.2f' % compute_accuracy(model, val_loader2))"
   ]
  },
  {
   "cell_type": "code",
   "execution_count": 24,
   "metadata": {
    "id": "DnXEJqw3JGNv"
   },
   "outputs": [],
   "source": [
    "def compute_predictions(net, data_loader):\n",
    "    predictions = []\n",
    "    labels = []\n",
    "    with torch.no_grad():\n",
    "        for features, targets in data_loader:\n",
    "            features = features.to(DEVICE)\n",
    "            targets = targets.to(DEVICE)\n",
    "            logits = net.forward(features)\n",
    "            predicted_labels = torch.argmax(logits, 1)\n",
    "            predictions = predictions + predicted_labels.detach().tolist()\n",
    "            labels = labels + targets.view(-1).detach().tolist()\n",
    "        return np.array(labels), np.array(predictions)"
   ]
  },
  {
   "cell_type": "code",
   "execution_count": 25,
   "metadata": {
    "id": "dsOC_LUKJGNv"
   },
   "outputs": [],
   "source": [
    "labels,predictions = compute_predictions(model, test_loader2)\n"
   ]
  },
  {
   "cell_type": "code",
   "execution_count": 26,
   "metadata": {
    "colab": {
     "base_uri": "https://localhost:8080/"
    },
    "id": "Janv8p_MJGNw",
    "outputId": "acf51a5b-1dab-494a-867e-bb01c06ceae0"
   },
   "outputs": [
    {
     "name": "stdout",
     "output_type": "stream",
     "text": [
      "              precision    recall  f1-score   support\n",
      "\n",
      "         0.0       0.80      0.84      0.82       300\n",
      "         1.0       0.77      0.65      0.71       240\n",
      "         2.0       0.86      0.97      0.91       180\n",
      "\n",
      "    accuracy                           0.81       720\n",
      "   macro avg       0.81      0.82      0.81       720\n",
      "weighted avg       0.81      0.81      0.81       720\n",
      "\n"
     ]
    }
   ],
   "source": [
    "print(classification_report(y_test,predictions))"
   ]
  },
  {
   "cell_type": "code",
   "execution_count": 27,
   "metadata": {
    "colab": {
     "base_uri": "https://localhost:8080/",
     "height": 296
    },
    "id": "69CjSFl4JGNw",
    "outputId": "8450dda2-58c1-4b38-e207-1082828dc843"
   },
   "outputs": [
    {
     "name": "stdout",
     "output_type": "stream",
     "text": [
      "0.8097222222222222\n"
     ]
    },
    {
     "data": {
      "image/png": "[encoded data removed]",
      "text/plain": [
       "<Figure size 432x288 with 2 Axes>"
      ]
     },
     "metadata": {
      "needs_background": "light"
     },
     "output_type": "display_data"
    }
   ],
   "source": [
    "ConfusionMatrixDisplay.from_predictions(y_test, predictions, cmap='Greens', display_labels=['Low', 'Medium','High'])\n",
    "plt.tight_layout()\n",
    "plt.savefig('./Results/AI_MLP_CF.pdf', transparent=True, dpi=300)\n",
    "\n",
    "accuracy = accuracy_score(\n",
    "            y_true    = y_test,\n",
    "            y_pred    = predictions,\n",
    "            normalize = True\n",
    "           )\n",
    "\n",
    "print(accuracy)"
   ]
  },
  {
   "cell_type": "markdown",
   "metadata": {
    "id": "myNewm0rJGNw"
   },
   "source": [
    "## Conv1D"
   ]
  },
  {
   "cell_type": "code",
   "execution_count": 28,
   "metadata": {
    "id": "DDVrl4NJCdHC"
   },
   "outputs": [],
   "source": [
    "class TransAudio(torch.nn.Module):\n",
    "\n",
    "    def __init__(self, d_model, num_clas):\n",
    "        super(TransAudio, self).__init__()\n",
    "        \n",
    "        self.conv1d = torch.nn.Conv1d(1, 64, 24, stride=24)\n",
    "        self.lineal1 = torch.nn.Linear(60*64,512)\n",
    "        self.relu = torch.nn.ReLU()\n",
    "        self.lineal2 = torch.nn.Linear(512,128)\n",
    "        self.lineal3 = torch.nn.Linear(128,num_clas)\n",
    "        self.softmax = torch.nn.Softmax()\n",
    "        self.dropout = nn.Dropout(0.5)\n",
    "        \n",
    "    def forward(self, x):#, idx):\n",
    "\n",
    "        out1 = self.conv1d(x)\n",
    "        out1 = out1.view(out1.size(0),-1)\n",
    "        out1 = self.lineal1(out1).squeeze()\n",
    "        out1 = self.relu(out1)\n",
    "        out1 = self.dropout(out1)\n",
    "        out1 = self.lineal2(out1).squeeze()\n",
    "        out1 = self.relu(out1)\n",
    "        out1 = self.dropout(out1)\n",
    "        out1 = self.lineal3(out1).squeeze()\n",
    "\n",
    "        return out1.unsqueeze(dim=0)"
   ]
  },
  {
   "cell_type": "code",
   "execution_count": 29,
   "metadata": {
    "colab": {
     "base_uri": "https://localhost:8080/"
    },
    "id": "rlNYlaodM_qL",
    "outputId": "6af5ce46-6a01-40c8-b2d4-ab6f0083524d"
   },
   "outputs": [
    {
     "name": "stdout",
     "output_type": "stream",
     "text": [
      "Model loaded!\n"
     ]
    }
   ],
   "source": [
    "try:\n",
    "    model = TransAudio(60,3)\n",
    "    model.load_state_dict(torch.load('models/AcousticConv1Dmodel_stDict.pt'))\n",
    "    model.to(DEVICE)\n",
    "    model.eval()\n",
    "    print('Model loaded!')\n",
    "except:\n",
    "\n",
    "    NUM_EPOCHS = 100\n",
    "    model = TransAudio(60,3)\n",
    "    model = model.to(DEVICE)\n",
    "\n",
    "    criterion = torch.nn.CrossEntropyLoss()\n",
    "    optimizer = torch.optim.Adam(model.parameters(), lr=0.001)\n",
    "\n",
    "    minibatch_cost = []\n",
    "\n",
    "    for epoch in range(NUM_EPOCHS):\n",
    "        for batch_idx, (A, et) in enumerate(train_loader):\n",
    "            output = model(A.unsqueeze(1).to(DEVICE))\n",
    "            et = et.to(DEVICE)\n",
    "\n",
    "            loss = criterion(F.softmax(output[0,...], dim=-1),et.long())\n",
    "            optimizer.zero_grad()\n",
    "\n",
    "            loss.backward()\n",
    "            minibatch_cost.append(loss.item())\n",
    "            optimizer.step()\n",
    "\n",
    "            if not batch_idx % 2:\n",
    "                print (f'Epoch: {epoch+1:03}/{NUM_EPOCHS:03} | Batch {batch_idx:03}/{len(tr_loader):03} | Cost: {loss.item():.4}')\n",
    "                \n",
    "    torch.save(model.state_dict(),'models/AcousticConv1Dmodel_stDict.pt')"
   ]
  },
  {
   "cell_type": "code",
   "execution_count": 30,
   "metadata": {
    "colab": {
     "base_uri": "https://localhost:8080/"
    },
    "id": "RX_EetR4TYe3",
    "outputId": "76c58c2f-b1ec-41f6-b272-74786768491d"
   },
   "outputs": [
    {
     "name": "stdout",
     "output_type": "stream",
     "text": [
      "tensor(0.9958, device='cuda:0')\n"
     ]
    }
   ],
   "source": [
    "resul = 0\n",
    "model.eval()\n",
    "\n",
    "predictions = []\n",
    "labels = []\n",
    "\n",
    "for batch_idx, (A, et) in enumerate(val_loader2):\n",
    "    et = et.to(DEVICE)\n",
    "    output = model(A.unsqueeze(1).to(DEVICE))\n",
    "\n",
    "    out1 = F.softmax(output, dim=-1)\n",
    "\n",
    "    out1 = out1.argmax(dim=-1)\n",
    "    predictions = predictions + out1.view(-1).detach().tolist()\n",
    "    labels = labels + et.view(-1).detach().tolist()\n",
    "\n",
    "    resul = resul + torch.sum(out1==et)# + torch.sum(out2==et)\n",
    "\n",
    "print(resul/(BATCH_SIZE*len(val_loader)))"
   ]
  },
  {
   "cell_type": "code",
   "execution_count": 31,
   "metadata": {
    "colab": {
     "base_uri": "https://localhost:8080/"
    },
    "id": "imos64mzJGNz",
    "outputId": "6aaefa12-d788-4ac3-9b2e-9dbd8f3ea121"
   },
   "outputs": [
    {
     "name": "stdout",
     "output_type": "stream",
     "text": [
      "tensor(0.9111, device='cuda:0')\n"
     ]
    }
   ],
   "source": [
    "resul = 0\n",
    "model.eval()\n",
    "\n",
    "predictions = []\n",
    "labels = []\n",
    "\n",
    "for batch_idx, (A, et) in enumerate(test_loader2):\n",
    "    et = et.to(DEVICE)\n",
    "    output = model(A.unsqueeze(1).to(DEVICE))\n",
    "\n",
    "    out1 = F.softmax(output, dim=-1)\n",
    "\n",
    "    out1 = out1.argmax(dim=-1)\n",
    "    predictions = predictions + out1.view(-1).detach().tolist()\n",
    "    labels = labels + et.view(-1).detach().tolist()\n",
    "\n",
    "    resul = resul + torch.sum(out1==et)# + torch.sum(out2==et)\n",
    "\n",
    "print(resul/(BATCH_SIZE*len(test_loader)))"
   ]
  },
  {
   "cell_type": "code",
   "execution_count": 32,
   "metadata": {
    "colab": {
     "base_uri": "https://localhost:8080/"
    },
    "id": "jsuflgSar8X7",
    "outputId": "11437112-fbe7-45da-980d-fa62046344cb"
   },
   "outputs": [
    {
     "name": "stdout",
     "output_type": "stream",
     "text": [
      "              precision    recall  f1-score   support\n",
      "\n",
      "         0.0       0.88      0.98      0.93       300\n",
      "         1.0       0.93      0.83      0.88       240\n",
      "         2.0       0.94      0.90      0.92       180\n",
      "\n",
      "    accuracy                           0.91       720\n",
      "   macro avg       0.92      0.90      0.91       720\n",
      "weighted avg       0.91      0.91      0.91       720\n",
      "\n"
     ]
    }
   ],
   "source": [
    "print(classification_report(labels,predictions))"
   ]
  },
  {
   "cell_type": "code",
   "execution_count": 33,
   "metadata": {
    "colab": {
     "base_uri": "https://localhost:8080/",
     "height": 296
    },
    "id": "hRQuCeMesCqC",
    "outputId": "499d31a7-fd33-4408-ef84-a8c7ab9675bd"
   },
   "outputs": [
    {
     "name": "stdout",
     "output_type": "stream",
     "text": [
      "0.9111111111111111\n"
     ]
    },
    {
     "data": {
      "image/png": "[encoded data removed]",
      "text/plain": [
       "<Figure size 432x288 with 2 Axes>"
      ]
     },
     "metadata": {
      "needs_background": "light"
     },
     "output_type": "display_data"
    }
   ],
   "source": [
    "ConfusionMatrixDisplay.from_predictions(labels, predictions, cmap='Greens', display_labels=['Low', 'Medium','High'])\n",
    "plt.tight_layout()\n",
    "plt.savefig('./Results/AI_CONV1D_CF.pdf', transparent=True, dpi=300)\n",
    "\n",
    "accuracy = accuracy_score(\n",
    "            y_true    = labels,\n",
    "            y_pred    = predictions,\n",
    "            normalize = True\n",
    "           )\n",
    "\n",
    "print(accuracy)"
   ]
  },
  {
   "cell_type": "markdown",
   "metadata": {},
   "source": [
    "<hr>"
   ]
  }
 ],
 "metadata": {
  "accelerator": "GPU",
  "colab": {
   "collapsed_sections": [],
   "provenance": []
  },
  "kernelspec": {
   "display_name": "Python 3 (ipykernel)",
   "language": "python",
   "name": "python3"
  },
  "language_info": {
   "codemirror_mode": {
    "name": "ipython",
    "version": 3
   },
   "file_extension": ".py",
   "mimetype": "text/x-python",
   "name": "python",
   "nbconvert_exporter": "python",
   "pygments_lexer": "ipython3",
   "version": "3.7.11"
  }
 },
 "nbformat": 4,
 "nbformat_minor": 1
}
