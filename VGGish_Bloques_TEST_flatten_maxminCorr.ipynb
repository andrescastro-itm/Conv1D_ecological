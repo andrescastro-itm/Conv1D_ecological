{
 "cells": [
  {
   "cell_type": "code",
   "execution_count": 1,
   "metadata": {
    "id": "j2LttjwU5Vqb"
   },
   "outputs": [],
   "source": [
    "import pandas as pd\n",
    "import numpy as np\n",
    "import matplotlib.pyplot as plt\n",
    "import os\n",
    "import math\n",
    "import pickle\n",
    "from datetime import datetime\n",
    "from pathlib import Path\n",
    "\n",
    "from tqdm import tqdm\n",
    "\n",
    "from dateutil import parser\n",
    "\n",
    "import torch\n",
    "import torch.nn.functional as F\n",
    "from torch.utils.data import Dataset, DataLoader\n",
    "\n",
    "plt.rcParams.update({'font.size': 16})\n",
    "plt.rc('font', family='serif',size=16)"
   ]
  },
  {
   "cell_type": "code",
   "execution_count": 2,
   "metadata": {},
   "outputs": [],
   "source": [
    "if not os.path.exists('./Results/'):\n",
    "    os.makedirs('./Results/')"
   ]
  },
  {
   "cell_type": "code",
   "execution_count": 3,
   "metadata": {},
   "outputs": [
    {
     "data": {
      "text/plain": [
       "<torch._C.Generator at 0x7f2d995089b0>"
      ]
     },
     "execution_count": 3,
     "metadata": {},
     "output_type": "execute_result"
    }
   ],
   "source": [
    "RANDOM_SEED = 42\n",
    "torch.manual_seed(RANDOM_SEED)"
   ]
  },
  {
   "cell_type": "code",
   "execution_count": 4,
   "metadata": {
    "id": "rjrBB9BayOrn"
   },
   "outputs": [],
   "source": [
    "PATH_FILES = '../../Datos/CaractCaribe/VGGish/' #replace with your own path\n",
    "\n",
    "Datos = ['2017/3785/20170510',\n",
    "         '2017/3785/20170123',\n",
    "         '2016/3786/20161221',\n",
    "         '2016/3786/20160214',\n",
    "         '2017/3786/20170123',\n",
    "         '2016/3787/20161221',\n",
    "         '2016/3787/20160407',\n",
    "         '2015/3788/20151212',\n",
    "         '2015/5067/20151212',\n",
    "         '2016/5067/20160214',\n",
    "         '2016/5069/20160224',\n",
    "         '2016/5069/20160407',\n",
    "         '2015/5070/20151212',\n",
    "         '2016/5070/20160214',\n",
    "         '2016/5071/20160305',\n",
    "         '2017/5071/20170123',\n",
    "         '2017/5071/20170213',\n",
    "         '2016/5071/20161221',\n",
    "         '2016/5071/20160224',\n",
    "         '2016/5071/20160214',\n",
    "         '2017/5071/20170510',\n",
    "         '2016/5071/20160407',\n",
    "         '2015/5072/20151212',\n",
    "         '2016/5072/20160214',\n",
    "         '2017/302143/20170123',\n",
    "         '2016/302143/20161221',\n",
    "         '2017/302143/20170510',\n",
    "         '2017/302151/20170202',\n",
    "         '2016/302151/20161221',\n",
    "         '2017/302151/20170510',\n",
    "         '2017/302298/20170123',\n",
    "         '2017/302298/20170212',\n",
    "         '2015/JSC5069/20151212',\n",
    "         '2015/LAS40-5069/20151212',\n",
    "         ]\n",
    "\n",
    "Clases = ['Media',\n",
    "          'Media',\n",
    "          'Baja',\n",
    "          'Baja',\n",
    "          'Media',\n",
    "          'Baja',\n",
    "          'Media',\n",
    "          'Baja',\n",
    "          'Alta',\n",
    "          'Media',\n",
    "          'Alta',\n",
    "          'Media',\n",
    "          'Baja',\n",
    "          'Media',\n",
    "          'Alta',\n",
    "          'Alta',\n",
    "          'Alta',\n",
    "          'Alta',\n",
    "          'Baja',\n",
    "          'Baja',\n",
    "          'Media',\n",
    "          'Media',\n",
    "          'Media',\n",
    "          'Media',\n",
    "          'Alta',\n",
    "          'Baja',\n",
    "          'Media',\n",
    "          'Baja',\n",
    "          'Media',\n",
    "          'Media',\n",
    "          'Baja',\n",
    "          'Baja',\n",
    "          'Baja',\n",
    "          'Media',\n",
    "          ]\n",
    "\n",
    "transANumero = {'Baja': 0, 'Media': 1, 'Alta': 2}\n",
    "etiquetas = [transANumero[i] for i in Clases]"
   ]
  },
  {
   "cell_type": "code",
   "execution_count": 5,
   "metadata": {
    "id": "W5R-LLhZ14ck"
   },
   "outputs": [],
   "source": [
    "UsadNestor = [1,2,4,5,7,8,9,10,12,13,14,15,17,18,19,22,23,24,25,27,28,30,32,33]\n",
    "DatosN = [Datos[i] for i in UsadNestor]\n",
    "etiquetasN = [etiquetas[i] for i in UsadNestor]"
   ]
  },
  {
   "cell_type": "code",
   "execution_count": 6,
   "metadata": {
    "colab": {
     "base_uri": "https://localhost:8080/"
    },
    "id": "_LulTM_Vtx6w",
    "outputId": "2e694136-41fb-4268-dfb2-ecd080192516"
   },
   "outputs": [
    {
     "data": {
      "text/plain": [
       "device(type='cuda', index=0)"
      ]
     },
     "execution_count": 6,
     "metadata": {},
     "output_type": "execute_result"
    }
   ],
   "source": [
    "DEVICE = torch.device('cuda:0' if torch.cuda.is_available() else 'cpu')\n",
    "DEVICE"
   ]
  },
  {
   "cell_type": "code",
   "execution_count": 7,
   "metadata": {
    "id": "L1CuKImj8bRK"
   },
   "outputs": [],
   "source": [
    "class MyDatasetTRAIN(Dataset):\n",
    "\n",
    "    def __init__(self, ListaArchivos, etiquetas, numbloq = 24):\n",
    "        self.numbloq = numbloq\n",
    "        self.lista = ListaArchivos\n",
    "        self.n = len(ListaArchivos)*self.numbloq #ya no es necesario el 24, ya no es bloque por hora fija sino muchos bloques que incluyen todas las horas\n",
    "        self.y = etiquetas\n",
    "    \n",
    "    def __getitem__(self, index):\n",
    "        archivo = index//self.numbloq #qué archivo usar\n",
    "        \n",
    "        ruta = self.lista[archivo]\n",
    "        name = '_'.join(ruta.split('/'))\n",
    "        \n",
    "        with open(f'{PATH_FILES}VGGcaract_{name}.pickle', 'rb') as handle:\n",
    "            unserialized_data = pickle.load(handle)\n",
    "        df = unserialized_data['df']\n",
    "        Vggtensor = unserialized_data['Data'] \n",
    "        L = np.arange(df.shape[0])\n",
    "\n",
    "        HM = df.index.strftime('%H:%M')\n",
    "        \n",
    "        Data1 = torch.empty((0,128)) \n",
    "        for bloque in range(24):\n",
    "            ini = f\"{bloque:02}:00\"\n",
    "            final = f\"{bloque+1:02}:00\"\n",
    "            Sel = np.logical_and(HM >= ini, HM < final)\n",
    "            \n",
    "            nd = sum(Sel)\n",
    "            ndata = int(0.8*nd)\n",
    "            row = np.random.permutation(ndata)[0:2]\n",
    "            \n",
    "            indices_datos = L[Sel]\n",
    "            nvalid = df.iloc[row[0],1]\n",
    "            fila1 = Vggtensor[indices_datos[row[0]],:nvalid,...].mean(0)\n",
    "            Data1 = torch.cat((Data1,fila1.view(1,-1)), axis=0)\n",
    "\n",
    "        \n",
    "        label = self.y[archivo]\n",
    "        return Data1, label, bloque\n",
    "\n",
    "    def __len__(self):\n",
    "        return self.n"
   ]
  },
  {
   "cell_type": "code",
   "execution_count": 8,
   "metadata": {},
   "outputs": [],
   "source": [
    "class MyDatasetTEST(Dataset):\n",
    "\n",
    "    def __init__(self, ListaArchivos, etiquetas, numbloq = 24):\n",
    "        self.numbloq = numbloq\n",
    "        self.lista = ListaArchivos\n",
    "        self.n = len(ListaArchivos)*self.numbloq #ya no es necesario el 24, ya no es bloque por hora fija sino muchos bloques que incluyen todas las horas\n",
    "        self.y = etiquetas\n",
    "    \n",
    "    def __getitem__(self, index):\n",
    "        archivo = index//self.numbloq #qué archivo usar\n",
    "        \n",
    "        ruta = self.lista[archivo]\n",
    "        name = '_'.join(ruta.split('/'))\n",
    "        \n",
    "        with open(f'{PATH_FILES}VGGcaract_{name}.pickle', 'rb') as handle:\n",
    "            unserialized_data = pickle.load(handle)\n",
    "        df = unserialized_data['df']\n",
    "        Vggtensor = unserialized_data['Data'] \n",
    "        L = np.arange(df.shape[0])\n",
    "\n",
    "        HM = df.index.strftime('%H:%M')\n",
    "        \n",
    "        Data1 = torch.empty((0,128)) \n",
    "        for bloque in range(24):\n",
    "            ini = f\"{bloque:02}:00\"\n",
    "            final = f\"{bloque+1:02}:00\"\n",
    "            Sel = np.logical_and(HM >= ini, HM < final)\n",
    "            nd = sum(Sel)\n",
    "            ndata = int(0.8*nd)\n",
    "            row = np.random.randint(ndata,nd)\n",
    "            \n",
    "            indices_datos = L[Sel]\n",
    "            nvalid = df.iloc[row,1]\n",
    "            fila1 = Vggtensor[indices_datos[row],:nvalid,...].mean(0)\n",
    "            Data1 = torch.cat((Data1,fila1.view(1,-1)), axis=0)\n",
    "\n",
    "        \n",
    "        label = self.y[archivo]\n",
    "        return Data1, label, bloque\n",
    "\n",
    "    def __len__(self):\n",
    "        return self.n"
   ]
  },
  {
   "cell_type": "code",
   "execution_count": 9,
   "metadata": {
    "colab": {
     "base_uri": "https://localhost:8080/"
    },
    "id": "CZNN1-rLx-Ro",
    "outputId": "1cd2360b-786d-4289-da21-511966dd5dec"
   },
   "outputs": [
    {
     "name": "stdout",
     "output_type": "stream",
     "text": [
      "1920 480 480 2400\n"
     ]
    }
   ],
   "source": [
    "BATCH_SIZE = 16#16\n",
    "NUM_TENSORES_TR = 100#200\n",
    "NUM_TENSORES_TE = 20#20\n",
    "\n",
    "train_dataset = MyDatasetTRAIN(ListaArchivos=DatosN,\n",
    "                          etiquetas=etiquetasN, numbloq=NUM_TENSORES_TR)\n",
    "\n",
    "trainsize = int(0.8*len(train_dataset))\n",
    "testsize = len(train_dataset) - trainsize\n",
    "\n",
    "tr_set, val_set = torch.utils.data.random_split(train_dataset, [trainsize, testsize])\n",
    "\n",
    "test_set = MyDatasetTEST(ListaArchivos=DatosN,\n",
    "                          etiquetas=etiquetasN, numbloq=NUM_TENSORES_TE)\n",
    "\n",
    "print(len(tr_set), len(val_set), len(test_set), len(train_dataset))\n",
    "\n",
    "tr_loader = DataLoader(dataset=tr_set,\n",
    "                          batch_size=BATCH_SIZE,\n",
    "                          drop_last=True,\n",
    "                          shuffle=True, # want to shuffle the dataset\n",
    "                          num_workers=0)\n",
    "\n",
    "val_loader = DataLoader(dataset=val_set,\n",
    "                          batch_size=BATCH_SIZE,\n",
    "                          drop_last=True,\n",
    "                          shuffle=True, # want to shuffle the dataset\n",
    "                          num_workers=0)\n",
    "\n",
    "test_loader = DataLoader(dataset=test_set,\n",
    "                          batch_size=BATCH_SIZE,\n",
    "                          drop_last=True,\n",
    "                          shuffle=True, # want to shuffle the dataset\n",
    "                          num_workers=0)"
   ]
  },
  {
   "cell_type": "code",
   "execution_count": 10,
   "metadata": {},
   "outputs": [],
   "source": [
    "def AE_MaxMin(A, maxi, mini):\n",
    "    return (A-mini)/(maxi-mini)"
   ]
  },
  {
   "cell_type": "code",
   "execution_count": 11,
   "metadata": {},
   "outputs": [],
   "source": [
    "def AE_loader2flatten(loader, ndim = 60):\n",
    "    X = torch.empty(0,ndim*24)\n",
    "    y = torch.empty(0)\n",
    "    for A, et, _ in loader:\n",
    "#         A = AE_MaxMin(A,Tmax, Tmin)\n",
    "        AA = A.transpose(1, 2).flatten().view(A.shape[0],-1)\n",
    "        X = torch.concat((X,AA))\n",
    "\n",
    "        y = torch.concat((y,et), dim=0)\n",
    "    return X.numpy(), y.numpy()"
   ]
  },
  {
   "cell_type": "markdown",
   "metadata": {},
   "source": [
    " ## RF"
   ]
  },
  {
   "cell_type": "code",
   "execution_count": 12,
   "metadata": {},
   "outputs": [],
   "source": [
    "from sklearn.ensemble import RandomForestClassifier\n",
    "from sklearn.model_selection import train_test_split\n",
    "from sklearn.metrics import accuracy_score\n",
    "from sklearn.metrics import confusion_matrix\n",
    "from sklearn.preprocessing import StandardScaler"
   ]
  },
  {
   "cell_type": "code",
   "execution_count": 13,
   "metadata": {},
   "outputs": [
    {
     "name": "stdout",
     "output_type": "stream",
     "text": [
      "Data loaded!\n"
     ]
    }
   ],
   "source": [
    "try:\n",
    "    with open('VGGpickles/normDataMaxMinVGG.pickle', 'rb') as handle:\n",
    "        unserialized_data = pickle.load(handle)\n",
    "        Tmax = unserialized_data['max']\n",
    "        Tmin = unserialized_data['mini']\n",
    "        \n",
    "    with open('VGGpickles/VGGDataFlatten.pickle', 'rb') as handle:\n",
    "        unserialized_data = pickle.load(handle)\n",
    "        X_train = unserialized_data['X_train']\n",
    "        X_val = unserialized_data['X_val']\n",
    "        X_test = unserialized_data['X_test']\n",
    "        y_train = unserialized_data['y_train']\n",
    "        y_val = unserialized_data['y_val']\n",
    "        y_test = unserialized_data['y_test']\n",
    "        print('Data loaded!')\n",
    "except:\n",
    "    print('Normalizando datos')\n",
    "    X_train_, y_train = AE_loader2flatten(tr_loader, 128)\n",
    "    X_val_, y_val = AE_loader2flatten(val_loader, 128)\n",
    "    X_test_, y_test = AE_loader2flatten(test_loader, 128)\n",
    "\n",
    "    \n",
    "    X_train_[np.isnan(X_train_)] = 0 #Los valores de nan en X hacerlos 0, imputar desde pandas?\n",
    "    X_test_[np.isnan(X_test_)] = 0\n",
    "    X_val_[np.isnan(X_val_)] = 0\n",
    "    \n",
    "    Tmax = np.max(X_train_,0)\n",
    "    Tmin = np.min(X_train_,0)\n",
    "    X_train = AE_MaxMin(X_train_,Tmax, Tmin)\n",
    "    X_val = AE_MaxMin(X_val_,Tmax, Tmin)\n",
    "    X_test = AE_MaxMin(X_test_,Tmax, Tmin)\n",
    "    \n",
    "    normData = {'max': Tmax, 'mini':Tmin}\n",
    "    Data = {'X_train': X_train, 'y_train':y_train, 'X_val': X_val, 'y_val':y_val, 'X_test': X_test, 'y_test':y_test}\n",
    "    # Store data (serialize)\n",
    "    with open('VGGpickles/normDataMaxMinVGG.pickle', 'wb') as handle:\n",
    "        pickle.dump(normData, handle, protocol=pickle.HIGHEST_PROTOCOL)\n",
    "    with open('VGGpickles/VGGDataFlatten.pickle', 'wb') as handle:\n",
    "        pickle.dump(Data, handle, protocol=pickle.HIGHEST_PROTOCOL)"
   ]
  },
  {
   "cell_type": "code",
   "execution_count": 14,
   "metadata": {},
   "outputs": [],
   "source": [
    "clf = RandomForestClassifier(max_depth=20, random_state=42)\n",
    "clf.fit(X_train.astype(np.float32), y_train.astype(np.float32))\n",
    "predictions = clf.predict(X_val)"
   ]
  },
  {
   "cell_type": "code",
   "execution_count": 15,
   "metadata": {},
   "outputs": [
    {
     "name": "stdout",
     "output_type": "stream",
     "text": [
      "Confusion matrix\n",
      "-------------------\n",
      "[[201   0   0]\n",
      " [  0 156   0]\n",
      " [  0   0 123]]\n",
      "\n",
      "Validation accuracy is: 100.0 %\n"
     ]
    }
   ],
   "source": [
    "mat_confusion = confusion_matrix(\n",
    "                    y_true    = y_val,\n",
    "                    y_pred    = predictions\n",
    "                )\n",
    "\n",
    "accuracy = accuracy_score(\n",
    "            y_true    = y_val,\n",
    "            y_pred    = predictions,\n",
    "            normalize = True\n",
    "           )\n",
    "\n",
    "print(\"Confusion matrix\")\n",
    "print(\"-------------------\")\n",
    "print(mat_confusion)\n",
    "print(\"\")\n",
    "print(f\"Validation accuracy is: {100 * accuracy} %\")"
   ]
  },
  {
   "cell_type": "code",
   "execution_count": 16,
   "metadata": {},
   "outputs": [],
   "source": [
    "from scipy import stats\n",
    "from sklearn.metrics import ConfusionMatrixDisplay, classification_report"
   ]
  },
  {
   "cell_type": "code",
   "execution_count": 17,
   "metadata": {},
   "outputs": [],
   "source": [
    "predictions = clf.predict(X_test)"
   ]
  },
  {
   "cell_type": "code",
   "execution_count": 18,
   "metadata": {},
   "outputs": [
    {
     "name": "stdout",
     "output_type": "stream",
     "text": [
      "0.8479166666666667\n"
     ]
    },
    {
     "data": {
      "image/png": "[encoded data removed]",
      "text/plain": [
       "<Figure size 432x288 with 2 Axes>"
      ]
     },
     "metadata": {
      "needs_background": "light"
     },
     "output_type": "display_data"
    }
   ],
   "source": [
    "ConfusionMatrixDisplay.from_predictions(y_test, predictions, cmap='Greens', display_labels=['Low', 'Medium','High'])\n",
    "plt.tight_layout()\n",
    "plt.savefig('./Results/VGGish_RF_CF.pdf', transparent=True, dpi=300)\n",
    "\n",
    "accuracy = accuracy_score(\n",
    "            y_true    = y_test,\n",
    "            y_pred    = predictions,\n",
    "            normalize = True\n",
    "           )\n",
    "\n",
    "print(accuracy)"
   ]
  },
  {
   "cell_type": "code",
   "execution_count": 19,
   "metadata": {},
   "outputs": [
    {
     "name": "stdout",
     "output_type": "stream",
     "text": [
      "              precision    recall  f1-score   support\n",
      "\n",
      "         0.0       0.83      0.97      0.89       200\n",
      "         1.0       0.83      0.81      0.82       160\n",
      "         2.0       0.94      0.68      0.79       120\n",
      "\n",
      "    accuracy                           0.85       480\n",
      "   macro avg       0.87      0.82      0.84       480\n",
      "weighted avg       0.86      0.85      0.84       480\n",
      "\n"
     ]
    }
   ],
   "source": [
    "print(classification_report(y_test, predictions))"
   ]
  },
  {
   "cell_type": "markdown",
   "metadata": {},
   "source": [
    "## MLP"
   ]
  },
  {
   "cell_type": "code",
   "execution_count": 20,
   "metadata": {},
   "outputs": [
    {
     "name": "stdout",
     "output_type": "stream",
     "text": [
      "cuda:0\n",
      "Image batch dimensions: torch.Size([64, 3072])\n",
      "Image label dimensions: torch.Size([64])\n"
     ]
    }
   ],
   "source": [
    "from torch.utils.data import DataLoader, TensorDataset\n",
    "\n",
    "#######################\n",
    "### SETTINGS        ###\n",
    "#######################\n",
    "\n",
    "BATCH_SIZE_MLP = 64\n",
    "NUM_EPOCHS = 50\n",
    "DEVICE = torch.device('cuda:0' if torch.cuda.is_available() else 'cpu')\n",
    "print(DEVICE)\n",
    "\n",
    "##################################\n",
    "### FROM DATASET TO DATALOADER ###\n",
    "##################################\n",
    "\n",
    "X_train = torch.FloatTensor(X_train)\n",
    "y_train = torch.FloatTensor(y_train)\n",
    "\n",
    "X_val = torch.FloatTensor(X_val)\n",
    "y_val = torch.FloatTensor(y_val)\n",
    "\n",
    "X_test = torch.FloatTensor(X_test)\n",
    "y_test = torch.FloatTensor(y_test)\n",
    "\n",
    "Traindataset = TensorDataset(X_train, y_train)\n",
    "Testdataset = TensorDataset(X_test, y_test)\n",
    "Valdataset = TensorDataset(X_val, y_val)\n",
    "\n",
    "train_loader = DataLoader(dataset=Traindataset, \n",
    "                          batch_size=BATCH_SIZE_MLP, \n",
    "                          shuffle=True)\n",
    "\n",
    "val_loader2 = DataLoader(dataset=Valdataset, \n",
    "                         batch_size=BATCH_SIZE_MLP, \n",
    "                         shuffle=False)\n",
    "\n",
    "test_loader2 = DataLoader(dataset=Testdataset, \n",
    "                         batch_size=BATCH_SIZE_MLP, \n",
    "                         shuffle=False)\n",
    "\n",
    "# Checking the dataset\n",
    "for batch, etiquetas  in val_loader2:  \n",
    "    print('Image batch dimensions:', batch.shape)\n",
    "    print('Image label dimensions:', etiquetas.shape)\n",
    "    break"
   ]
  },
  {
   "cell_type": "code",
   "execution_count": 21,
   "metadata": {},
   "outputs": [
    {
     "name": "stdout",
     "output_type": "stream",
     "text": [
      "Epoch: 001/050 | Batch 000/030 | Cost: 1.0929\n",
      "Epoch: 001/050 Train Cost: 1.0331\n",
      "Time elapsed: 0.01 min\n",
      "Epoch: 002/050 | Batch 000/030 | Cost: 0.9819\n",
      "Epoch: 002/050 Train Cost: 0.6599\n",
      "Time elapsed: 0.01 min\n",
      "Epoch: 003/050 | Batch 000/030 | Cost: 0.5913\n",
      "Epoch: 003/050 Train Cost: 0.3365\n",
      "Time elapsed: 0.01 min\n",
      "Epoch: 004/050 | Batch 000/030 | Cost: 0.3264\n",
      "Epoch: 004/050 Train Cost: 0.1938\n",
      "Time elapsed: 0.02 min\n",
      "Epoch: 005/050 | Batch 000/030 | Cost: 0.1878\n",
      "Epoch: 005/050 Train Cost: 0.1111\n",
      "Time elapsed: 0.02 min\n",
      "Epoch: 006/050 | Batch 000/030 | Cost: 0.0918\n",
      "Epoch: 006/050 Train Cost: 0.0630\n",
      "Time elapsed: 0.02 min\n",
      "Epoch: 007/050 | Batch 000/030 | Cost: 0.0544\n",
      "Epoch: 007/050 Train Cost: 0.0482\n",
      "Time elapsed: 0.02 min\n",
      "Epoch: 008/050 | Batch 000/030 | Cost: 0.0473\n",
      "Epoch: 008/050 Train Cost: 0.0360\n",
      "Time elapsed: 0.02 min\n",
      "Epoch: 009/050 | Batch 000/030 | Cost: 0.0424\n",
      "Epoch: 009/050 Train Cost: 0.0204\n",
      "Time elapsed: 0.02 min\n",
      "Epoch: 010/050 | Batch 000/030 | Cost: 0.0261\n",
      "Epoch: 010/050 Train Cost: 0.0160\n",
      "Time elapsed: 0.02 min\n",
      "Epoch: 011/050 | Batch 000/030 | Cost: 0.0097\n",
      "Epoch: 011/050 Train Cost: 0.0136\n",
      "Time elapsed: 0.03 min\n",
      "Epoch: 012/050 | Batch 000/030 | Cost: 0.0095\n",
      "Epoch: 012/050 Train Cost: 0.0121\n",
      "Time elapsed: 0.03 min\n",
      "Epoch: 013/050 | Batch 000/030 | Cost: 0.0080\n",
      "Epoch: 013/050 Train Cost: 0.0116\n",
      "Time elapsed: 0.03 min\n",
      "Epoch: 014/050 | Batch 000/030 | Cost: 0.0079\n",
      "Epoch: 014/050 Train Cost: 0.0093\n",
      "Time elapsed: 0.03 min\n",
      "Epoch: 015/050 | Batch 000/030 | Cost: 0.0106\n",
      "Epoch: 015/050 Train Cost: 0.0067\n",
      "Time elapsed: 0.03 min\n",
      "Epoch: 016/050 | Batch 000/030 | Cost: 0.0051\n",
      "Epoch: 016/050 Train Cost: 0.0074\n",
      "Time elapsed: 0.04 min\n",
      "Epoch: 017/050 | Batch 000/030 | Cost: 0.0036\n",
      "Epoch: 017/050 Train Cost: 0.0047\n",
      "Time elapsed: 0.04 min\n",
      "Epoch: 018/050 | Batch 000/030 | Cost: 0.0025\n",
      "Epoch: 018/050 Train Cost: 0.0045\n",
      "Time elapsed: 0.04 min\n",
      "Epoch: 019/050 | Batch 000/030 | Cost: 0.0026\n",
      "Epoch: 019/050 Train Cost: 0.0042\n",
      "Time elapsed: 0.04 min\n",
      "Epoch: 020/050 | Batch 000/030 | Cost: 0.0085\n",
      "Epoch: 020/050 Train Cost: 0.0031\n",
      "Time elapsed: 0.04 min\n",
      "Epoch: 021/050 | Batch 000/030 | Cost: 0.0030\n",
      "Epoch: 021/050 Train Cost: 0.0029\n",
      "Time elapsed: 0.04 min\n",
      "Epoch: 022/050 | Batch 000/030 | Cost: 0.0015\n",
      "Epoch: 022/050 Train Cost: 0.0028\n",
      "Time elapsed: 0.05 min\n",
      "Epoch: 023/050 | Batch 000/030 | Cost: 0.0021\n",
      "Epoch: 023/050 Train Cost: 0.0023\n",
      "Time elapsed: 0.05 min\n",
      "Epoch: 024/050 | Batch 000/030 | Cost: 0.0040\n",
      "Epoch: 024/050 Train Cost: 0.0023\n",
      "Time elapsed: 0.05 min\n",
      "Epoch: 025/050 | Batch 000/030 | Cost: 0.0030\n",
      "Epoch: 025/050 Train Cost: 0.0019\n",
      "Time elapsed: 0.05 min\n",
      "Epoch: 026/050 | Batch 000/030 | Cost: 0.0025\n",
      "Epoch: 026/050 Train Cost: 0.0019\n",
      "Time elapsed: 0.05 min\n",
      "Epoch: 027/050 | Batch 000/030 | Cost: 0.0010\n",
      "Epoch: 027/050 Train Cost: 0.0017\n",
      "Time elapsed: 0.05 min\n",
      "Epoch: 028/050 | Batch 000/030 | Cost: 0.0018\n",
      "Epoch: 028/050 Train Cost: 0.0016\n",
      "Time elapsed: 0.06 min\n",
      "Epoch: 029/050 | Batch 000/030 | Cost: 0.0012\n",
      "Epoch: 029/050 Train Cost: 0.0014\n",
      "Time elapsed: 0.06 min\n",
      "Epoch: 030/050 | Batch 000/030 | Cost: 0.0015\n",
      "Epoch: 030/050 Train Cost: 0.0015\n",
      "Time elapsed: 0.06 min\n",
      "Epoch: 031/050 | Batch 000/030 | Cost: 0.0008\n",
      "Epoch: 031/050 Train Cost: 0.0012\n",
      "Time elapsed: 0.06 min\n",
      "Epoch: 032/050 | Batch 000/030 | Cost: 0.0011\n",
      "Epoch: 032/050 Train Cost: 0.0012\n",
      "Time elapsed: 0.06 min\n",
      "Epoch: 033/050 | Batch 000/030 | Cost: 0.0017\n",
      "Epoch: 033/050 Train Cost: 0.0011\n",
      "Time elapsed: 0.06 min\n",
      "Epoch: 034/050 | Batch 000/030 | Cost: 0.0008\n",
      "Epoch: 034/050 Train Cost: 0.0012\n",
      "Time elapsed: 0.06 min\n",
      "Epoch: 035/050 | Batch 000/030 | Cost: 0.0011\n",
      "Epoch: 035/050 Train Cost: 0.0011\n",
      "Time elapsed: 0.07 min\n",
      "Epoch: 036/050 | Batch 000/030 | Cost: 0.0012\n",
      "Epoch: 036/050 Train Cost: 0.0010\n",
      "Time elapsed: 0.07 min\n",
      "Epoch: 037/050 | Batch 000/030 | Cost: 0.0007\n",
      "Epoch: 037/050 Train Cost: 0.0009\n",
      "Time elapsed: 0.07 min\n",
      "Epoch: 038/050 | Batch 000/030 | Cost: 0.0009\n",
      "Epoch: 038/050 Train Cost: 0.0009\n",
      "Time elapsed: 0.07 min\n",
      "Epoch: 039/050 | Batch 000/030 | Cost: 0.0013\n",
      "Epoch: 039/050 Train Cost: 0.0008\n",
      "Time elapsed: 0.07 min\n",
      "Epoch: 040/050 | Batch 000/030 | Cost: 0.0005\n",
      "Epoch: 040/050 Train Cost: 0.0009\n",
      "Time elapsed: 0.07 min\n",
      "Epoch: 041/050 | Batch 000/030 | Cost: 0.0005\n",
      "Epoch: 041/050 Train Cost: 0.0008\n",
      "Time elapsed: 0.08 min\n",
      "Epoch: 042/050 | Batch 000/030 | Cost: 0.0008\n",
      "Epoch: 042/050 Train Cost: 0.0007\n",
      "Time elapsed: 0.08 min\n",
      "Epoch: 043/050 | Batch 000/030 | Cost: 0.0006\n",
      "Epoch: 043/050 Train Cost: 0.0006\n",
      "Time elapsed: 0.08 min\n",
      "Epoch: 044/050 | Batch 000/030 | Cost: 0.0005\n",
      "Epoch: 044/050 Train Cost: 0.0007\n",
      "Time elapsed: 0.08 min\n",
      "Epoch: 045/050 | Batch 000/030 | Cost: 0.0007\n",
      "Epoch: 045/050 Train Cost: 0.0006\n",
      "Time elapsed: 0.08 min\n",
      "Epoch: 046/050 | Batch 000/030 | Cost: 0.0007\n",
      "Epoch: 046/050 Train Cost: 0.0006\n",
      "Time elapsed: 0.09 min\n",
      "Epoch: 047/050 | Batch 000/030 | Cost: 0.0009\n",
      "Epoch: 047/050 Train Cost: 0.0005\n",
      "Time elapsed: 0.09 min\n",
      "Epoch: 048/050 | Batch 000/030 | Cost: 0.0003\n",
      "Epoch: 048/050 Train Cost: 0.0005\n",
      "Time elapsed: 0.09 min\n",
      "Epoch: 049/050 | Batch 000/030 | Cost: 0.0006\n",
      "Epoch: 049/050 Train Cost: 0.0005\n",
      "Time elapsed: 0.09 min\n",
      "Epoch: 050/050 | Batch 000/030 | Cost: 0.0005\n",
      "Epoch: 050/050 Train Cost: 0.0005\n",
      "Time elapsed: 0.09 min\n",
      "Total Training Time: 0.09 min\n"
     ]
    }
   ],
   "source": [
    "import time\n",
    "from torch import nn\n",
    "\n",
    "class MLP(torch.nn.Module):\n",
    "\n",
    "    def __init__(self, num_features, num_hidden, num_classes):\n",
    "        super().__init__()\n",
    "        \n",
    "        self.num_classes = num_classes\n",
    "        \n",
    "        ### 1st hidden layer\n",
    "        self.linear_1 = torch.nn.Linear(num_features, num_hidden)\n",
    "\n",
    "        ### Output layer\n",
    "        self.linear_out = torch.nn.Linear(num_hidden, num_classes)\n",
    "        \n",
    "    def forward(self, x):\n",
    "        out = self.linear_1(x)\n",
    "        out = F.relu(out)\n",
    "        logits = self.linear_out(out)\n",
    "        probas = torch.softmax(logits, dim=1)\n",
    "        return logits\n",
    "\n",
    "    \n",
    "#################################\n",
    "### Model Initialization\n",
    "#################################\n",
    "\n",
    "model_mlp = MLP(num_features=3072,\n",
    "            num_hidden=150,\n",
    "            num_classes=3)\n",
    "\n",
    "model_mlp = model_mlp.to(DEVICE)\n",
    "\n",
    "optimizer = torch.optim.Adam(model_mlp.parameters(), lr=0.005)\n",
    "\n",
    "#################################\n",
    "### Training\n",
    "#################################\n",
    "\n",
    "def compute_loss(net, data_loader):\n",
    "    curr_loss = 0.\n",
    "    with torch.no_grad():\n",
    "        for cnt, (features, targets) in enumerate(data_loader):\n",
    "            features = features.view(-1, 3072).to(DEVICE)\n",
    "            targets = targets.to(DEVICE)\n",
    "            logits = net(features).to(DEVICE)\n",
    "            loss = F.cross_entropy(logits.to(DEVICE), targets.squeeze().type(torch.LongTensor).to(DEVICE))\n",
    "            curr_loss += loss\n",
    "        return float(curr_loss)/cnt\n",
    "\n",
    "\n",
    "\n",
    "start_time = time.time()\n",
    "minibatch_cost = []\n",
    "epoch_cost = []\n",
    "loss_function = nn.CrossEntropyLoss()\n",
    "for epoch in range(NUM_EPOCHS):\n",
    "    model_mlp.train()\n",
    "    for batch_idx, (features, targets) in enumerate(train_loader):\n",
    "        \n",
    "        features = features.to(DEVICE)\n",
    "        targets = targets.to(DEVICE)\n",
    "            \n",
    "        ### FORWARD AND BACK PROP\n",
    "        logits = model_mlp(features.float()).to(DEVICE)\n",
    "        \n",
    "        cost = loss_function(logits.to(DEVICE), targets.squeeze().type(torch.LongTensor).to(DEVICE))\n",
    "        optimizer.zero_grad()\n",
    "        \n",
    "        cost.backward()\n",
    "       \n",
    "        ### UPDATE MODEL PARAMETERS\n",
    "        optimizer.step()\n",
    "        \n",
    "        ### LOGGING\n",
    "        minibatch_cost.append(cost.item())\n",
    "        if not batch_idx % 50:\n",
    "            print ('Epoch: %03d/%03d | Batch %03d/%03d | Cost: %.4f' \n",
    "                   %(epoch+1, NUM_EPOCHS, batch_idx, \n",
    "                     len(train_loader), cost.item()))\n",
    "        \n",
    "    cost = compute_loss(model_mlp, train_loader)\n",
    "    epoch_cost.append(cost)\n",
    "    print('Epoch: %03d/%03d Train Cost: %.4f' % (\n",
    "            epoch+1, NUM_EPOCHS, cost))\n",
    "    print('Time elapsed: %.2f min' % ((time.time() - start_time)/60))\n",
    "    \n",
    "print('Total Training Time: %.2f min' % ((time.time() - start_time)/60))"
   ]
  },
  {
   "cell_type": "code",
   "execution_count": 22,
   "metadata": {},
   "outputs": [
    {
     "data": {
      "text/plain": [
       "tensor([[  5.8462,  -5.9167,  -7.3485],\n",
       "        [ -1.3445,  -4.1994,   5.8254],\n",
       "        [ -4.3009,   5.1922,  -4.9724],\n",
       "        [ -3.6583,   3.5082,  -4.3442],\n",
       "        [  4.0770,  -6.0212,  -5.5519],\n",
       "        [ -0.9840,  -3.9227,   5.7643],\n",
       "        [  4.8736,  -4.8177,  -8.5150],\n",
       "        [ -3.0608,   3.4058,  -4.2968],\n",
       "        [  5.7745,  -6.4499,  -8.3879],\n",
       "        [  3.1596,  -4.1539,  -6.4302],\n",
       "        [  4.6562,  -5.4551,  -7.3426],\n",
       "        [ -1.8571,   6.9969, -13.3212],\n",
       "        [ -5.1371,   7.5598,  -7.8382],\n",
       "        [  5.1467,  -4.1867,  -8.8045],\n",
       "        [ -3.2202,   6.0431,  -8.9950],\n",
       "        [ -4.8032,   7.8588,  -9.2108],\n",
       "        [ -0.0890,  -5.9975,   7.8705],\n",
       "        [ -3.6895,   3.7267,  -3.5624],\n",
       "        [ -4.8823,   6.6247,  -6.7342],\n",
       "        [ -5.1978,   5.5772,  -4.6897],\n",
       "        [  6.0345,  -8.5327,  -5.7686],\n",
       "        [  7.7766,  -1.8413, -19.8710],\n",
       "        [ -0.3238,  -6.3794,   9.0694],\n",
       "        [ 10.5251,  -4.5604, -21.2276],\n",
       "        [ -3.2000,  -2.6002,   7.2587],\n",
       "        [ -1.5426,  -5.1349,   8.1731],\n",
       "        [ -5.0308,   4.4469,  -2.2837],\n",
       "        [  7.2107,  -3.3368, -16.4949],\n",
       "        [  6.1098,  -4.3712, -11.4535],\n",
       "        [  5.4623,  -3.7661, -12.1044],\n",
       "        [ 11.5872,  -6.3091, -20.0208],\n",
       "        [ -5.2871,   6.3731,  -5.1159],\n",
       "        [ -4.2444,   6.8340,  -8.3581],\n",
       "        [ 10.6994,  -8.4804, -13.5168],\n",
       "        [ -2.7831,   3.4214,  -5.8503],\n",
       "        [  9.9186,  -9.6911, -10.8213],\n",
       "        [ -1.1603,  -5.8222,   9.5985],\n",
       "        [ -4.5482,  -2.0981,   9.3922],\n",
       "        [ -3.4937,  -3.1860,   9.1288],\n",
       "        [ -3.7989,  -2.2238,   8.3674],\n",
       "        [  7.3687,  -6.3094, -11.4892],\n",
       "        [ -4.8715,   6.9206,  -7.2261],\n",
       "        [ -3.5236,   4.5783,  -5.3535],\n",
       "        [ -0.3709,   9.1310, -21.3341],\n",
       "        [ -2.7223,  -3.4854,   7.9544],\n",
       "        [ -3.7424,   5.5727,  -7.7147],\n",
       "        [  5.0178,  -5.2901,  -9.2908],\n",
       "        [  3.5290,  -7.1509,  -1.4129],\n",
       "        [ -1.7448,  -3.8679,   7.3315],\n",
       "        [ -5.5029,   6.2906,  -4.9587],\n",
       "        [  9.7426,  -4.0296, -20.8401],\n",
       "        [ -4.0853,   5.6888,  -6.6080],\n",
       "        [  4.0062,  -4.3989,  -5.1499],\n",
       "        [ -2.1113,  10.6644, -19.5014],\n",
       "        [ 10.1950,  -3.5830, -21.9016],\n",
       "        [ -5.8159,  -1.3765,  10.7403],\n",
       "        [  4.6040,  -4.7478,  -4.1909],\n",
       "        [  8.5834,  -2.1383, -21.3752],\n",
       "        [ -4.9350,   8.0939,  -9.0759],\n",
       "        [  3.5810,  -3.1661,  -5.9828],\n",
       "        [ -3.3169,   7.1090, -10.9014],\n",
       "        [  8.3391,  -9.4862,  -7.0655],\n",
       "        [ -2.9989,  -2.3835,   6.5721],\n",
       "        [ -5.4326,   6.8309,  -6.0371]], device='cuda:0',\n",
       "       grad_fn=<AddmmBackward0>)"
      ]
     },
     "execution_count": 22,
     "metadata": {},
     "output_type": "execute_result"
    }
   ],
   "source": [
    "model_mlp(features)"
   ]
  },
  {
   "cell_type": "code",
   "execution_count": 23,
   "metadata": {},
   "outputs": [
    {
     "data": {
      "image/png": "[encoded data removed]",
      "text/plain": [
       "<Figure size 432x288 with 1 Axes>"
      ]
     },
     "metadata": {
      "needs_background": "light"
     },
     "output_type": "display_data"
    },
    {
     "data": {
      "image/png": "[encoded data removed]",
      "text/plain": [
       "<Figure size 432x288 with 1 Axes>"
      ]
     },
     "metadata": {
      "needs_background": "light"
     },
     "output_type": "display_data"
    }
   ],
   "source": [
    "plt.plot(range(len(minibatch_cost)), minibatch_cost)\n",
    "plt.ylabel('Cross Entropy')\n",
    "plt.xlabel('Minibatch')\n",
    "plt.show()\n",
    "\n",
    "plt.plot(range(len(epoch_cost)), epoch_cost)\n",
    "plt.ylabel('Cross Entropy')\n",
    "plt.xlabel('Epoch')\n",
    "plt.show()"
   ]
  },
  {
   "cell_type": "code",
   "execution_count": 24,
   "metadata": {},
   "outputs": [
    {
     "name": "stdout",
     "output_type": "stream",
     "text": [
      "Training Accuracy: 100.00\n",
      "Val Accuracy: 99.79\n"
     ]
    }
   ],
   "source": [
    "def compute_accuracy(net, data_loader):\n",
    "    correct_pred, num_examples = 0, 0\n",
    "    with torch.no_grad():\n",
    "        for features, targets in data_loader:\n",
    "            features = features.to(DEVICE)\n",
    "            targets = targets.to(DEVICE)\n",
    "            logits = net.forward(features)\n",
    "            predicted_labels = torch.argmax(logits, 1)\n",
    "            num_examples += targets.size(0)\n",
    "            correct_pred += (predicted_labels == targets.squeeze()).sum()\n",
    "        return correct_pred.float()/num_examples * 100\n",
    "    \n",
    "print('Training Accuracy: %.2f' % compute_accuracy(model_mlp, train_loader))\n",
    "print('Val Accuracy: %.2f' % compute_accuracy(model_mlp, val_loader2))"
   ]
  },
  {
   "cell_type": "code",
   "execution_count": 25,
   "metadata": {},
   "outputs": [],
   "source": [
    "def compute_predictions(net, data_loader):\n",
    "    predictions = []\n",
    "    labels = []\n",
    "    with torch.no_grad():\n",
    "        for features, targets in data_loader:\n",
    "            features = features.to(DEVICE)\n",
    "            targets = targets.to(DEVICE)\n",
    "            logits = net.forward(features)\n",
    "            predicted_labels = torch.argmax(logits, 1)\n",
    "            predictions = predictions + predicted_labels.detach().tolist()\n",
    "            labels = labels + targets.view(-1).detach().tolist()\n",
    "        return np.array(labels), np.array(predictions)"
   ]
  },
  {
   "cell_type": "code",
   "execution_count": 26,
   "metadata": {},
   "outputs": [],
   "source": [
    "labels,predictions = compute_predictions(model_mlp, test_loader2)\n"
   ]
  },
  {
   "cell_type": "code",
   "execution_count": 27,
   "metadata": {},
   "outputs": [
    {
     "name": "stdout",
     "output_type": "stream",
     "text": [
      "              precision    recall  f1-score   support\n",
      "\n",
      "         0.0       0.79      0.89      0.84       200\n",
      "         1.0       0.82      0.76      0.79       160\n",
      "         2.0       0.96      0.86      0.91       120\n",
      "\n",
      "    accuracy                           0.84       480\n",
      "   macro avg       0.86      0.84      0.85       480\n",
      "weighted avg       0.85      0.84      0.84       480\n",
      "\n"
     ]
    }
   ],
   "source": [
    "print(classification_report(y_test,predictions))"
   ]
  },
  {
   "cell_type": "code",
   "execution_count": 28,
   "metadata": {},
   "outputs": [
    {
     "name": "stdout",
     "output_type": "stream",
     "text": [
      "0.8395833333333333\n"
     ]
    },
    {
     "data": {
      "image/png": "[encoded data removed]",
      "text/plain": [
       "<Figure size 432x288 with 2 Axes>"
      ]
     },
     "metadata": {
      "needs_background": "light"
     },
     "output_type": "display_data"
    }
   ],
   "source": [
    "ConfusionMatrixDisplay.from_predictions(y_test, predictions, cmap='Greens', display_labels=['Low', 'Medium','High'])\n",
    "plt.tight_layout()\n",
    "plt.savefig('./Results/VGGish_MLP_CF.pdf', transparent=True, dpi=300)\n",
    "\n",
    "accuracy = accuracy_score(\n",
    "            y_true    = y_test,\n",
    "            y_pred    = predictions,\n",
    "            normalize = True\n",
    "           )\n",
    "\n",
    "print(accuracy)"
   ]
  },
  {
   "cell_type": "markdown",
   "metadata": {},
   "source": [
    "## Conv1D"
   ]
  },
  {
   "cell_type": "code",
   "execution_count": 29,
   "metadata": {
    "id": "DDVrl4NJCdHC"
   },
   "outputs": [],
   "source": [
    "class TransAudio(torch.nn.Module):\n",
    "\n",
    "    def __init__(self, d_model, num_clas):\n",
    "        super(TransAudio, self).__init__()\n",
    "        \n",
    "        self.conv1d = torch.nn.Conv1d(1, 64, 24, stride=24)\n",
    "        self.lineal1 = torch.nn.Linear(128*64,512)\n",
    "        self.relu = torch.nn.ReLU()\n",
    "        self.lineal2 = torch.nn.Linear(512,128)\n",
    "        self.lineal3 = torch.nn.Linear(128,num_clas)\n",
    "        self.softmax = torch.nn.Softmax()\n",
    "        self.dropout = nn.Dropout(0.5)\n",
    "        \n",
    "    def forward(self, x):\n",
    "\n",
    "\n",
    "        out1 = self.conv1d(x)\n",
    "        out1 = out1.view(out1.size(0),-1)\n",
    "        out1 = self.lineal1(out1).squeeze()\n",
    "        out1 = self.relu(out1)\n",
    "        out1 = self.dropout(out1)\n",
    "        out1 = self.lineal2(out1).squeeze()\n",
    "        out1 = self.relu(out1)\n",
    "        out1 = self.dropout(out1)\n",
    "        out1 = self.lineal3(out1).squeeze()\n",
    "        return out1.unsqueeze(dim=0)"
   ]
  },
  {
   "cell_type": "code",
   "execution_count": 30,
   "metadata": {
    "colab": {
     "base_uri": "https://localhost:8080/"
    },
    "id": "rlNYlaodM_qL",
    "outputId": "0699cd08-a939-4498-deb2-3d815b130dff",
    "scrolled": true
   },
   "outputs": [
    {
     "name": "stdout",
     "output_type": "stream",
     "text": [
      "Model Loaded!\n"
     ]
    }
   ],
   "source": [
    "try:\n",
    "    model = TransAudio(60,3)\n",
    "    model.load_state_dict(torch.load('models/VGGConv1Dmodel_stDict.pt'))\n",
    "    model.to(DEVICE)\n",
    "    model.eval()\n",
    "    print('Model Loaded!')\n",
    "except:\n",
    "    NUM_EPOCHS = 100\n",
    "    model = TransAudio(60,3)\n",
    "    model = model.to(DEVICE)\n",
    "\n",
    "    criterion = torch.nn.CrossEntropyLoss()\n",
    "    optimizer = torch.optim.Adam(model.parameters(), lr=0.001)\n",
    "\n",
    "    minibatch_cost = []\n",
    "\n",
    "    for epoch in range(NUM_EPOCHS):\n",
    "        for batch_idx, (A, et) in enumerate(train_loader):\n",
    "\n",
    "            output = model(A.unsqueeze(1).to(DEVICE))\n",
    "\n",
    "            et = et.to(DEVICE)\n",
    "\n",
    "            loss = criterion(F.softmax(output[0,...], dim=-1),et.long())\n",
    "            optimizer.zero_grad()\n",
    "\n",
    "            loss.backward()\n",
    "            minibatch_cost.append(loss.item())\n",
    "            optimizer.step()\n",
    "\n",
    "            if not batch_idx % 2:\n",
    "                print (f'Epoch: {epoch+1:03}/{NUM_EPOCHS:03} | Batch {batch_idx:03}/{len(tr_loader):03} | Cost: {loss.item():.4}')\n",
    "        \n",
    "    torch.save(model.state_dict(),'models/VGGConv1Dmodel_stDict.pt')"
   ]
  },
  {
   "cell_type": "code",
   "execution_count": 31,
   "metadata": {},
   "outputs": [
    {
     "name": "stdout",
     "output_type": "stream",
     "text": [
      "tensor(3.4297, device='cuda:0')\n"
     ]
    }
   ],
   "source": [
    "resul = 0\n",
    "model.eval()\n",
    "\n",
    "predictions = []\n",
    "labels = []\n",
    "\n",
    "for batch_idx, (A, et) in enumerate(test_loader2):\n",
    "    et = et.to(DEVICE)\n",
    "    output = model(A.unsqueeze(1).to(DEVICE))\n",
    "\n",
    "    out1 = F.softmax(output, dim=-1)\n",
    "\n",
    "    out1 = out1.argmax(dim=-1)\n",
    "    predictions = predictions + out1.view(-1).detach().tolist()\n",
    "    labels = labels + et.view(-1).detach().tolist()\n",
    "\n",
    "    resul = resul + torch.sum(out1==et)# + torch.sum(out2==et)\n",
    "\n",
    "print(resul/(BATCH_SIZE*len(test_loader2)))"
   ]
  },
  {
   "cell_type": "code",
   "execution_count": 32,
   "metadata": {},
   "outputs": [
    {
     "name": "stdout",
     "output_type": "stream",
     "text": [
      "              precision    recall  f1-score   support\n",
      "\n",
      "         0.0       0.87      0.96      0.92       200\n",
      "         1.0       0.99      0.82      0.90       160\n",
      "         2.0       0.91      0.95      0.93       120\n",
      "\n",
      "    accuracy                           0.91       480\n",
      "   macro avg       0.92      0.91      0.92       480\n",
      "weighted avg       0.92      0.91      0.91       480\n",
      "\n"
     ]
    }
   ],
   "source": [
    "print(classification_report(labels,predictions))"
   ]
  },
  {
   "cell_type": "code",
   "execution_count": 33,
   "metadata": {},
   "outputs": [
    {
     "name": "stdout",
     "output_type": "stream",
     "text": [
      "0.9145833333333333\n"
     ]
    },
    {
     "data": {
      "image/png": "[encoded data removed]",
      "text/plain": [
       "<Figure size 432x288 with 2 Axes>"
      ]
     },
     "metadata": {
      "needs_background": "light"
     },
     "output_type": "display_data"
    }
   ],
   "source": [
    "ConfusionMatrixDisplay.from_predictions(labels, predictions, cmap='Greens', display_labels=['Low', 'Medium','High'])\n",
    "plt.tight_layout()\n",
    "plt.savefig('./Results/VGGish_CONV1D_CF.pdf', transparent=True, dpi=300)\n",
    "\n",
    "accuracy = accuracy_score(\n",
    "            y_true    = labels,\n",
    "            y_pred    = predictions,\n",
    "            normalize = True\n",
    "           )\n",
    "\n",
    "print(accuracy)"
   ]
  },
  {
   "cell_type": "markdown",
   "metadata": {},
   "source": [
    "<hr>"
   ]
  }
 ],
 "metadata": {
  "accelerator": "GPU",
  "colab": {
   "collapsed_sections": [],
   "name": "VGGish_Bloques.ipynb",
   "provenance": []
  },
  "kernelspec": {
   "display_name": "Python 3 (ipykernel)",
   "language": "python",
   "name": "python3"
  },
  "language_info": {
   "codemirror_mode": {
    "name": "ipython",
    "version": 3
   },
   "file_extension": ".py",
   "mimetype": "text/x-python",
   "name": "python",
   "nbconvert_exporter": "python",
   "pygments_lexer": "ipython3",
   "version": "3.7.11"
  }
 },
 "nbformat": 4,
 "nbformat_minor": 1
}
